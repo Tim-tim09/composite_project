{
 "cells": [
  {
   "cell_type": "markdown",
   "metadata": {},
   "source": [
    "\n",
    " 🎯 Цель исследования\n",
    "\n",
    "Проанализировать исторические данные о продажах компьютерных игр, чтобы определить закономерности успеха, выявить перспективные платформы и жанры, а также подготовить рекомендации для запуска игр и рекламных кампаний в 2017 году.\n",
    "\n",
    "🧭 Ход исследования\n",
    "\n",
    "1. **Обзор данных**\n",
    "   - Импортируем датасет и изучим его структуру.\n",
    "   - Проверим на пропуски и дубликаты.\n",
    "\n",
    "2. **Предобработка данных**\n",
    "   - Приведём названия столбцов к нижнему регистру.\n",
    "   - Преобразуем данные в нужные форматы (например, дату выпуска).\n",
    "   - Обработаем пропущенные значения, особенно в рейтингах и оценках.\n",
    "\n",
    "3. **Создание новых признаков**\n",
    "   - Рассчитаем суммарные продажи по регионам и по всему миру.\n",
    "   - Выделим актуальный период, подходящий для прогноза на 2017 год.\n",
    "   - Добавим столбец с классификацией платформ по актуальности.\n",
    "\n",
    "4. **Исследовательский анализ**\n",
    "   - Посчитаем количество игр, выпущенных по годам.\n",
    "   - Изучим распределение продаж по платформам и жанрам.\n",
    "   - Построим графики «ящик с усами», диаграммы рассеяния и гистограммы.\n",
    "   - Исследуем влияние рейтингов ESRB на продажи.\n",
    "\n",
    "5. **Анализ по регионам**\n",
    "   - Определим самые популярные жанры и платформы в регионах NA, EU, JP.\n",
    "   - Проанализируем различия в потребительских предпочтениях.\n",
    "   - Изучим влияние рейтингов на продажи в разных регионах.\n",
    "\n",
    "6. **Проверка гипотез**\n",
    "   - Средние пользовательские рейтинги платформ Xbox One и PC равны.\n",
    "   - Средние рейтинги жанров Action и Sports различаются.\n",
    "\n",
    "7. **Общий вывод**\n",
    "   - Подведём итоги исследования и сформулируем рекомендации по продвижению игр.\n"
   ]
  },
  {
   "cell_type": "markdown",
   "metadata": {},
   "source": [
    "#### Обзор данных"
   ]
  },
  {
   "cell_type": "code",
   "execution_count": 1,
   "metadata": {},
   "outputs": [],
   "source": [
    "import pandas as pd\n",
    "import matplotlib.pyplot as plt\n",
    "from scipy import stats as st\n",
    "import numpy as np"
   ]
  },
  {
   "cell_type": "markdown",
   "metadata": {},
   "source": [
    "##### Импорт  и первичный обзор"
   ]
  },
  {
   "cell_type": "code",
   "execution_count": 2,
   "metadata": {},
   "outputs": [],
   "source": [
    "data = pd.read_csv('/datasets/games.csv')"
   ]
  },
  {
   "cell_type": "code",
   "execution_count": 3,
   "metadata": {},
   "outputs": [
    {
     "name": "stdout",
     "output_type": "stream",
     "text": [
      "<class 'pandas.core.frame.DataFrame'>\n",
      "RangeIndex: 16715 entries, 0 to 16714\n",
      "Data columns (total 11 columns):\n",
      " #   Column           Non-Null Count  Dtype  \n",
      "---  ------           --------------  -----  \n",
      " 0   Name             16713 non-null  object \n",
      " 1   Platform         16715 non-null  object \n",
      " 2   Year_of_Release  16446 non-null  float64\n",
      " 3   Genre            16713 non-null  object \n",
      " 4   NA_sales         16715 non-null  float64\n",
      " 5   EU_sales         16715 non-null  float64\n",
      " 6   JP_sales         16715 non-null  float64\n",
      " 7   Other_sales      16715 non-null  float64\n",
      " 8   Critic_Score     8137 non-null   float64\n",
      " 9   User_Score       10014 non-null  object \n",
      " 10  Rating           9949 non-null   object \n",
      "dtypes: float64(6), object(5)\n",
      "memory usage: 1.4+ MB\n"
     ]
    }
   ],
   "source": [
    "data.info()"
   ]
  },
  {
   "cell_type": "code",
   "execution_count": 4,
   "metadata": {},
   "outputs": [
    {
     "data": {
      "text/html": [
       "<div>\n",
       "<style scoped>\n",
       "    .dataframe tbody tr th:only-of-type {\n",
       "        vertical-align: middle;\n",
       "    }\n",
       "\n",
       "    .dataframe tbody tr th {\n",
       "        vertical-align: top;\n",
       "    }\n",
       "\n",
       "    .dataframe thead th {\n",
       "        text-align: right;\n",
       "    }\n",
       "</style>\n",
       "<table border=\"1\" class=\"dataframe\">\n",
       "  <thead>\n",
       "    <tr style=\"text-align: right;\">\n",
       "      <th></th>\n",
       "      <th>Name</th>\n",
       "      <th>Platform</th>\n",
       "      <th>Year_of_Release</th>\n",
       "      <th>Genre</th>\n",
       "      <th>NA_sales</th>\n",
       "      <th>EU_sales</th>\n",
       "      <th>JP_sales</th>\n",
       "      <th>Other_sales</th>\n",
       "      <th>Critic_Score</th>\n",
       "      <th>User_Score</th>\n",
       "      <th>Rating</th>\n",
       "    </tr>\n",
       "  </thead>\n",
       "  <tbody>\n",
       "    <tr>\n",
       "      <th>0</th>\n",
       "      <td>Wii Sports</td>\n",
       "      <td>Wii</td>\n",
       "      <td>2006.0</td>\n",
       "      <td>Sports</td>\n",
       "      <td>41.36</td>\n",
       "      <td>28.96</td>\n",
       "      <td>3.77</td>\n",
       "      <td>8.45</td>\n",
       "      <td>76.0</td>\n",
       "      <td>8</td>\n",
       "      <td>E</td>\n",
       "    </tr>\n",
       "    <tr>\n",
       "      <th>1</th>\n",
       "      <td>Super Mario Bros.</td>\n",
       "      <td>NES</td>\n",
       "      <td>1985.0</td>\n",
       "      <td>Platform</td>\n",
       "      <td>29.08</td>\n",
       "      <td>3.58</td>\n",
       "      <td>6.81</td>\n",
       "      <td>0.77</td>\n",
       "      <td>NaN</td>\n",
       "      <td>NaN</td>\n",
       "      <td>NaN</td>\n",
       "    </tr>\n",
       "    <tr>\n",
       "      <th>2</th>\n",
       "      <td>Mario Kart Wii</td>\n",
       "      <td>Wii</td>\n",
       "      <td>2008.0</td>\n",
       "      <td>Racing</td>\n",
       "      <td>15.68</td>\n",
       "      <td>12.76</td>\n",
       "      <td>3.79</td>\n",
       "      <td>3.29</td>\n",
       "      <td>82.0</td>\n",
       "      <td>8.3</td>\n",
       "      <td>E</td>\n",
       "    </tr>\n",
       "    <tr>\n",
       "      <th>3</th>\n",
       "      <td>Wii Sports Resort</td>\n",
       "      <td>Wii</td>\n",
       "      <td>2009.0</td>\n",
       "      <td>Sports</td>\n",
       "      <td>15.61</td>\n",
       "      <td>10.93</td>\n",
       "      <td>3.28</td>\n",
       "      <td>2.95</td>\n",
       "      <td>80.0</td>\n",
       "      <td>8</td>\n",
       "      <td>E</td>\n",
       "    </tr>\n",
       "    <tr>\n",
       "      <th>4</th>\n",
       "      <td>Pokemon Red/Pokemon Blue</td>\n",
       "      <td>GB</td>\n",
       "      <td>1996.0</td>\n",
       "      <td>Role-Playing</td>\n",
       "      <td>11.27</td>\n",
       "      <td>8.89</td>\n",
       "      <td>10.22</td>\n",
       "      <td>1.00</td>\n",
       "      <td>NaN</td>\n",
       "      <td>NaN</td>\n",
       "      <td>NaN</td>\n",
       "    </tr>\n",
       "    <tr>\n",
       "      <th>5</th>\n",
       "      <td>Tetris</td>\n",
       "      <td>GB</td>\n",
       "      <td>1989.0</td>\n",
       "      <td>Puzzle</td>\n",
       "      <td>23.20</td>\n",
       "      <td>2.26</td>\n",
       "      <td>4.22</td>\n",
       "      <td>0.58</td>\n",
       "      <td>NaN</td>\n",
       "      <td>NaN</td>\n",
       "      <td>NaN</td>\n",
       "    </tr>\n",
       "    <tr>\n",
       "      <th>6</th>\n",
       "      <td>New Super Mario Bros.</td>\n",
       "      <td>DS</td>\n",
       "      <td>2006.0</td>\n",
       "      <td>Platform</td>\n",
       "      <td>11.28</td>\n",
       "      <td>9.14</td>\n",
       "      <td>6.50</td>\n",
       "      <td>2.88</td>\n",
       "      <td>89.0</td>\n",
       "      <td>8.5</td>\n",
       "      <td>E</td>\n",
       "    </tr>\n",
       "    <tr>\n",
       "      <th>7</th>\n",
       "      <td>Wii Play</td>\n",
       "      <td>Wii</td>\n",
       "      <td>2006.0</td>\n",
       "      <td>Misc</td>\n",
       "      <td>13.96</td>\n",
       "      <td>9.18</td>\n",
       "      <td>2.93</td>\n",
       "      <td>2.84</td>\n",
       "      <td>58.0</td>\n",
       "      <td>6.6</td>\n",
       "      <td>E</td>\n",
       "    </tr>\n",
       "    <tr>\n",
       "      <th>8</th>\n",
       "      <td>New Super Mario Bros. Wii</td>\n",
       "      <td>Wii</td>\n",
       "      <td>2009.0</td>\n",
       "      <td>Platform</td>\n",
       "      <td>14.44</td>\n",
       "      <td>6.94</td>\n",
       "      <td>4.70</td>\n",
       "      <td>2.24</td>\n",
       "      <td>87.0</td>\n",
       "      <td>8.4</td>\n",
       "      <td>E</td>\n",
       "    </tr>\n",
       "    <tr>\n",
       "      <th>9</th>\n",
       "      <td>Duck Hunt</td>\n",
       "      <td>NES</td>\n",
       "      <td>1984.0</td>\n",
       "      <td>Shooter</td>\n",
       "      <td>26.93</td>\n",
       "      <td>0.63</td>\n",
       "      <td>0.28</td>\n",
       "      <td>0.47</td>\n",
       "      <td>NaN</td>\n",
       "      <td>NaN</td>\n",
       "      <td>NaN</td>\n",
       "    </tr>\n",
       "    <tr>\n",
       "      <th>10</th>\n",
       "      <td>Nintendogs</td>\n",
       "      <td>DS</td>\n",
       "      <td>2005.0</td>\n",
       "      <td>Simulation</td>\n",
       "      <td>9.05</td>\n",
       "      <td>10.95</td>\n",
       "      <td>1.93</td>\n",
       "      <td>2.74</td>\n",
       "      <td>NaN</td>\n",
       "      <td>NaN</td>\n",
       "      <td>NaN</td>\n",
       "    </tr>\n",
       "    <tr>\n",
       "      <th>11</th>\n",
       "      <td>Mario Kart DS</td>\n",
       "      <td>DS</td>\n",
       "      <td>2005.0</td>\n",
       "      <td>Racing</td>\n",
       "      <td>9.71</td>\n",
       "      <td>7.47</td>\n",
       "      <td>4.13</td>\n",
       "      <td>1.90</td>\n",
       "      <td>91.0</td>\n",
       "      <td>8.6</td>\n",
       "      <td>E</td>\n",
       "    </tr>\n",
       "    <tr>\n",
       "      <th>12</th>\n",
       "      <td>Pokemon Gold/Pokemon Silver</td>\n",
       "      <td>GB</td>\n",
       "      <td>1999.0</td>\n",
       "      <td>Role-Playing</td>\n",
       "      <td>9.00</td>\n",
       "      <td>6.18</td>\n",
       "      <td>7.20</td>\n",
       "      <td>0.71</td>\n",
       "      <td>NaN</td>\n",
       "      <td>NaN</td>\n",
       "      <td>NaN</td>\n",
       "    </tr>\n",
       "    <tr>\n",
       "      <th>13</th>\n",
       "      <td>Wii Fit</td>\n",
       "      <td>Wii</td>\n",
       "      <td>2007.0</td>\n",
       "      <td>Sports</td>\n",
       "      <td>8.92</td>\n",
       "      <td>8.03</td>\n",
       "      <td>3.60</td>\n",
       "      <td>2.15</td>\n",
       "      <td>80.0</td>\n",
       "      <td>7.7</td>\n",
       "      <td>E</td>\n",
       "    </tr>\n",
       "    <tr>\n",
       "      <th>14</th>\n",
       "      <td>Kinect Adventures!</td>\n",
       "      <td>X360</td>\n",
       "      <td>2010.0</td>\n",
       "      <td>Misc</td>\n",
       "      <td>15.00</td>\n",
       "      <td>4.89</td>\n",
       "      <td>0.24</td>\n",
       "      <td>1.69</td>\n",
       "      <td>61.0</td>\n",
       "      <td>6.3</td>\n",
       "      <td>E</td>\n",
       "    </tr>\n",
       "  </tbody>\n",
       "</table>\n",
       "</div>"
      ],
      "text/plain": [
       "                           Name Platform  Year_of_Release         Genre  \\\n",
       "0                    Wii Sports      Wii           2006.0        Sports   \n",
       "1             Super Mario Bros.      NES           1985.0      Platform   \n",
       "2                Mario Kart Wii      Wii           2008.0        Racing   \n",
       "3             Wii Sports Resort      Wii           2009.0        Sports   \n",
       "4      Pokemon Red/Pokemon Blue       GB           1996.0  Role-Playing   \n",
       "5                        Tetris       GB           1989.0        Puzzle   \n",
       "6         New Super Mario Bros.       DS           2006.0      Platform   \n",
       "7                      Wii Play      Wii           2006.0          Misc   \n",
       "8     New Super Mario Bros. Wii      Wii           2009.0      Platform   \n",
       "9                     Duck Hunt      NES           1984.0       Shooter   \n",
       "10                   Nintendogs       DS           2005.0    Simulation   \n",
       "11                Mario Kart DS       DS           2005.0        Racing   \n",
       "12  Pokemon Gold/Pokemon Silver       GB           1999.0  Role-Playing   \n",
       "13                      Wii Fit      Wii           2007.0        Sports   \n",
       "14           Kinect Adventures!     X360           2010.0          Misc   \n",
       "\n",
       "    NA_sales  EU_sales  JP_sales  Other_sales  Critic_Score User_Score Rating  \n",
       "0      41.36     28.96      3.77         8.45          76.0          8      E  \n",
       "1      29.08      3.58      6.81         0.77           NaN        NaN    NaN  \n",
       "2      15.68     12.76      3.79         3.29          82.0        8.3      E  \n",
       "3      15.61     10.93      3.28         2.95          80.0          8      E  \n",
       "4      11.27      8.89     10.22         1.00           NaN        NaN    NaN  \n",
       "5      23.20      2.26      4.22         0.58           NaN        NaN    NaN  \n",
       "6      11.28      9.14      6.50         2.88          89.0        8.5      E  \n",
       "7      13.96      9.18      2.93         2.84          58.0        6.6      E  \n",
       "8      14.44      6.94      4.70         2.24          87.0        8.4      E  \n",
       "9      26.93      0.63      0.28         0.47           NaN        NaN    NaN  \n",
       "10      9.05     10.95      1.93         2.74           NaN        NaN    NaN  \n",
       "11      9.71      7.47      4.13         1.90          91.0        8.6      E  \n",
       "12      9.00      6.18      7.20         0.71           NaN        NaN    NaN  \n",
       "13      8.92      8.03      3.60         2.15          80.0        7.7      E  \n",
       "14     15.00      4.89      0.24         1.69          61.0        6.3      E  "
      ]
     },
     "execution_count": 4,
     "metadata": {},
     "output_type": "execute_result"
    }
   ],
   "source": [
    "data.head(15)"
   ]
  },
  {
   "cell_type": "markdown",
   "metadata": {},
   "source": [
    "##### Проверка на пропуски или явные дубликаты"
   ]
  },
  {
   "cell_type": "code",
   "execution_count": 5,
   "metadata": {},
   "outputs": [
    {
     "data": {
      "text/plain": [
       "0"
      ]
     },
     "execution_count": 5,
     "metadata": {},
     "output_type": "execute_result"
    }
   ],
   "source": [
    "data.duplicated().sum()"
   ]
  },
  {
   "cell_type": "code",
   "execution_count": 6,
   "metadata": {},
   "outputs": [
    {
     "data": {
      "text/plain": [
       "Name                  2\n",
       "Platform              0\n",
       "Year_of_Release     269\n",
       "Genre                 2\n",
       "NA_sales              0\n",
       "EU_sales              0\n",
       "JP_sales              0\n",
       "Other_sales           0\n",
       "Critic_Score       8578\n",
       "User_Score         6701\n",
       "Rating             6766\n",
       "dtype: int64"
      ]
     },
     "execution_count": 6,
     "metadata": {},
     "output_type": "execute_result"
    }
   ],
   "source": [
    "data.isna().sum()"
   ]
  },
  {
   "cell_type": "markdown",
   "metadata": {},
   "source": [
    "**Вывод**: В ходе первичного анализа были выявлены пропущенные значения в шести столбцах: Name, Year_of_Release, Genre, Critic_Score, User_Score и Rating. Больше всего пропусков оказалось в оценках критиков (8578), пользовательских оценках (6701) и рейтинге ESRB (6766). Эти данные требуют дальнейшей обработки"
   ]
  },
  {
   "cell_type": "markdown",
   "metadata": {},
   "source": [
    "#### Предобработка данных"
   ]
  },
  {
   "cell_type": "markdown",
   "metadata": {},
   "source": [
    "##### Перевод названий колонок в нижний регистр"
   ]
  },
  {
   "cell_type": "code",
   "execution_count": 7,
   "metadata": {},
   "outputs": [
    {
     "data": {
      "text/html": [
       "<div>\n",
       "<style scoped>\n",
       "    .dataframe tbody tr th:only-of-type {\n",
       "        vertical-align: middle;\n",
       "    }\n",
       "\n",
       "    .dataframe tbody tr th {\n",
       "        vertical-align: top;\n",
       "    }\n",
       "\n",
       "    .dataframe thead th {\n",
       "        text-align: right;\n",
       "    }\n",
       "</style>\n",
       "<table border=\"1\" class=\"dataframe\">\n",
       "  <thead>\n",
       "    <tr style=\"text-align: right;\">\n",
       "      <th></th>\n",
       "      <th>name</th>\n",
       "      <th>platform</th>\n",
       "      <th>year_of_release</th>\n",
       "      <th>genre</th>\n",
       "      <th>na_sales</th>\n",
       "      <th>eu_sales</th>\n",
       "      <th>jp_sales</th>\n",
       "      <th>other_sales</th>\n",
       "      <th>critic_score</th>\n",
       "      <th>user_score</th>\n",
       "      <th>rating</th>\n",
       "    </tr>\n",
       "  </thead>\n",
       "  <tbody>\n",
       "    <tr>\n",
       "      <th>604</th>\n",
       "      <td>Madden NFL 13</td>\n",
       "      <td>PS3</td>\n",
       "      <td>2012.0</td>\n",
       "      <td>Sports</td>\n",
       "      <td>2.11</td>\n",
       "      <td>0.22</td>\n",
       "      <td>0.00</td>\n",
       "      <td>0.23</td>\n",
       "      <td>83.0</td>\n",
       "      <td>5.5</td>\n",
       "      <td>E</td>\n",
       "    </tr>\n",
       "    <tr>\n",
       "      <th>659</th>\n",
       "      <td>NaN</td>\n",
       "      <td>GEN</td>\n",
       "      <td>1993.0</td>\n",
       "      <td>NaN</td>\n",
       "      <td>1.78</td>\n",
       "      <td>0.53</td>\n",
       "      <td>0.00</td>\n",
       "      <td>0.08</td>\n",
       "      <td>NaN</td>\n",
       "      <td>NaN</td>\n",
       "      <td>NaN</td>\n",
       "    </tr>\n",
       "    <tr>\n",
       "      <th>14244</th>\n",
       "      <td>NaN</td>\n",
       "      <td>GEN</td>\n",
       "      <td>1993.0</td>\n",
       "      <td>NaN</td>\n",
       "      <td>0.00</td>\n",
       "      <td>0.00</td>\n",
       "      <td>0.03</td>\n",
       "      <td>0.00</td>\n",
       "      <td>NaN</td>\n",
       "      <td>NaN</td>\n",
       "      <td>NaN</td>\n",
       "    </tr>\n",
       "    <tr>\n",
       "      <th>16230</th>\n",
       "      <td>Madden NFL 13</td>\n",
       "      <td>PS3</td>\n",
       "      <td>2012.0</td>\n",
       "      <td>Sports</td>\n",
       "      <td>0.00</td>\n",
       "      <td>0.01</td>\n",
       "      <td>0.00</td>\n",
       "      <td>0.00</td>\n",
       "      <td>83.0</td>\n",
       "      <td>5.5</td>\n",
       "      <td>E</td>\n",
       "    </tr>\n",
       "  </tbody>\n",
       "</table>\n",
       "</div>"
      ],
      "text/plain": [
       "                name platform  year_of_release   genre  na_sales  eu_sales  \\\n",
       "604    Madden NFL 13      PS3           2012.0  Sports      2.11      0.22   \n",
       "659              NaN      GEN           1993.0     NaN      1.78      0.53   \n",
       "14244            NaN      GEN           1993.0     NaN      0.00      0.00   \n",
       "16230  Madden NFL 13      PS3           2012.0  Sports      0.00      0.01   \n",
       "\n",
       "       jp_sales  other_sales  critic_score user_score rating  \n",
       "604        0.00         0.23          83.0        5.5      E  \n",
       "659        0.00         0.08           NaN        NaN    NaN  \n",
       "14244      0.03         0.00           NaN        NaN    NaN  \n",
       "16230      0.00         0.00          83.0        5.5      E  "
      ]
     },
     "execution_count": 7,
     "metadata": {},
     "output_type": "execute_result"
    }
   ],
   "source": [
    "data.columns = data.columns.str.lower()\n",
    "data[data[['name', 'platform','year_of_release']].duplicated(keep=False)]"
   ]
  },
  {
   "cell_type": "markdown",
   "metadata": {},
   "source": [
    "**Удаление неявных дубликатов:**"
   ]
  },
  {
   "cell_type": "code",
   "execution_count": 8,
   "metadata": {},
   "outputs": [
    {
     "data": {
      "text/html": [
       "<div>\n",
       "<style scoped>\n",
       "    .dataframe tbody tr th:only-of-type {\n",
       "        vertical-align: middle;\n",
       "    }\n",
       "\n",
       "    .dataframe tbody tr th {\n",
       "        vertical-align: top;\n",
       "    }\n",
       "\n",
       "    .dataframe thead th {\n",
       "        text-align: right;\n",
       "    }\n",
       "</style>\n",
       "<table border=\"1\" class=\"dataframe\">\n",
       "  <thead>\n",
       "    <tr style=\"text-align: right;\">\n",
       "      <th></th>\n",
       "      <th>name</th>\n",
       "      <th>platform</th>\n",
       "      <th>year_of_release</th>\n",
       "      <th>genre</th>\n",
       "      <th>na_sales</th>\n",
       "      <th>eu_sales</th>\n",
       "      <th>jp_sales</th>\n",
       "      <th>other_sales</th>\n",
       "      <th>critic_score</th>\n",
       "      <th>user_score</th>\n",
       "      <th>rating</th>\n",
       "    </tr>\n",
       "  </thead>\n",
       "  <tbody>\n",
       "  </tbody>\n",
       "</table>\n",
       "</div>"
      ],
      "text/plain": [
       "Empty DataFrame\n",
       "Columns: [name, platform, year_of_release, genre, na_sales, eu_sales, jp_sales, other_sales, critic_score, user_score, rating]\n",
       "Index: []"
      ]
     },
     "execution_count": 8,
     "metadata": {},
     "output_type": "execute_result"
    }
   ],
   "source": [
    "data = data.drop_duplicates(subset=['name', 'platform', 'year_of_release'], keep='first')\n",
    "data[data[['name', 'platform','year_of_release']].duplicated(keep=False)]"
   ]
  },
  {
   "cell_type": "markdown",
   "metadata": {},
   "source": [
    "**Вывод**: Нашлось 2 неявных дубликата, но они не полностью дублируются, дубликаты в строках 14244 и 16230, дублируют значения у строк 604 и 659 соответственно, во всех столбцах кроме продаж, разумнее их просто удалить."
   ]
  },
  {
   "cell_type": "markdown",
   "metadata": {},
   "source": [
    "##### Изменение типов данных на более подходящие "
   ]
  },
  {
   "cell_type": "code",
   "execution_count": 9,
   "metadata": {},
   "outputs": [],
   "source": [
    "data['year_of_release'] = data['year_of_release'].astype('Int64')"
   ]
  },
  {
   "cell_type": "code",
   "execution_count": 10,
   "metadata": {},
   "outputs": [],
   "source": [
    "(data['critic_score'] % 1 != 0).sum()\n",
    "data['critic_score'] = data['critic_score'].astype('Int64')"
   ]
  },
  {
   "cell_type": "markdown",
   "metadata": {},
   "source": [
    "**Описание**: В столбце с данными о годе выхода `year_of_release` тип данных был изменён с вещественного `float` на целочисленный `int`, т.к. год не может содержать дробную часть. Также была проведеная провекра для столбца с оценками критиков `critic_score` на наличие чисел не с нулеввыми сначениями в дробной части, было выявлено, что 8578 значений содержат не нулевые значения после запятой, но ранее был проведём подсчёт пропусков и их оказалось 8578, поэтому эти значения, которые якобы не равны нулю после запятой, это нулевые значения, поэтому тип данных был изменём с вещественного `float` на целочисленный `int`"
   ]
  },
  {
   "cell_type": "markdown",
   "metadata": {},
   "source": [
    "##### Заполнение пропусков"
   ]
  },
  {
   "cell_type": "code",
   "execution_count": 11,
   "metadata": {},
   "outputs": [],
   "source": [
    "data = data.dropna(subset=['name', 'year_of_release', 'genre'])\n",
    "data['critic_score'] = data['critic_score'].fillna(-1)\n",
    "data['rating'] = data['rating'].fillna('unknown')\n",
    "data['user_score'] = pd.to_numeric(data['user_score'], errors='coerce')\n",
    "data['user_score'] = data['user_score'].fillna(-1)"
   ]
  },
  {
   "cell_type": "markdown",
   "metadata": {},
   "source": [
    "**Описание**: Потери в столбцах содержащих свдения о платформе и продажах составляют `0%(0 нулевых значений)`. Потери в стобцах с названием, годом выхода и жанром составляют `0.01%(2 нулевых значения)`для названия и жанра и `1.6%(269 нулевых значений)` для года выхода, поэтому было принято решение об удалениии этих строк. В столбцах с оценками и рейтенгом потери данных довольно велики `40-50%(6701-8578 нулевых значений)`, поэтому было принято решение заполнить пропуски на отдельное значение, обозначающее отсутствие оценки. Что касается значения `tbd` - это значения обозначающее, что игра еще не получила оценку, заменяем их на значения Nan."
   ]
  },
  {
   "cell_type": "markdown",
   "metadata": {},
   "source": [
    "##### Подсчет суммарных продаж"
   ]
  },
  {
   "cell_type": "code",
   "execution_count": 12,
   "metadata": {},
   "outputs": [],
   "source": [
    "data['total_sales'] = data[['na_sales', 'eu_sales', 'jp_sales', 'other_sales']].sum(axis=1)"
   ]
  },
  {
   "cell_type": "markdown",
   "metadata": {},
   "source": [
    "**Пояснение**: Был добавлен новый столбец `total_sales`, содержащий информацию о суммарных продажах."
   ]
  },
  {
   "cell_type": "markdown",
   "metadata": {},
   "source": [
    "#### Исследовательский анализ"
   ]
  },
  {
   "cell_type": "code",
   "execution_count": 13,
   "metadata": {},
   "outputs": [
    {
     "data": {
      "text/plain": [
       "2008    1427\n",
       "2009    1426\n",
       "2010    1255\n",
       "2007    1197\n",
       "2011    1136\n",
       "2006    1006\n",
       "2005     939\n",
       "2002     829\n",
       "2003     775\n",
       "2004     762\n",
       "2012     652\n",
       "2015     606\n",
       "2014     581\n",
       "2013     544\n",
       "2016     502\n",
       "2001     482\n",
       "1998     379\n",
       "2000     350\n",
       "1999     338\n",
       "1997     289\n",
       "1996     263\n",
       "1995     219\n",
       "1994     121\n",
       "1993      60\n",
       "1981      46\n",
       "1992      43\n",
       "1991      41\n",
       "1982      36\n",
       "1986      21\n",
       "1983      17\n",
       "1989      17\n",
       "1990      16\n",
       "1987      16\n",
       "1988      15\n",
       "1985      14\n",
       "1984      14\n",
       "1980       9\n",
       "Name: year_of_release, dtype: Int64"
      ]
     },
     "execution_count": 13,
     "metadata": {},
     "output_type": "execute_result"
    }
   ],
   "source": [
    "data['year_of_release'].value_counts()"
   ]
  },
  {
   "cell_type": "code",
   "execution_count": 14,
   "metadata": {},
   "outputs": [
    {
     "data": {
      "image/png": "[encoded data removed]",
      "text/plain": [
       "<Figure size 1008x504 with 1 Axes>"
      ]
     },
     "metadata": {
      "needs_background": "light"
     },
     "output_type": "display_data"
    }
   ],
   "source": [
    "plt.title('Число игр выпущенных по годам')\n",
    "sort_years = data['year_of_release'].sort_values()\n",
    "sort_years.value_counts().sort_index().plot(kind='bar', figsize=(14, 7), color='green')\n",
    "plt.xticks(rotation=45)\n",
    "plt.xlabel('Год')\n",
    "plt.ylabel('Число игр')\n",
    "plt.grid(True)\n",
    "plt.show()"
   ]
  },
  {
   "cell_type": "markdown",
   "metadata": {},
   "source": [
    "**Вывод**: Больше всего игр было выпущено в период с 2005 по 2011 год(от 1006 до 1427 игр за год), меньше всего за период с 1980 по 1993(от 9 доБольше всего игр выпускалось в период с 2005 по 2011 год, затем наблюдается спад. Наиболее слабый выпуск был в 1980–1993 годах. Для прогноза логично использовать данные за последние 5 лет, то есть с 2012 по 2016 год. 60 игр за год). Для прогонза на 2-17 год думаю будет разумно взять данные за последние 5 лет, то есть с 2012 по 2016 год."
   ]
  },
  {
   "cell_type": "markdown",
   "metadata": {},
   "source": [
    "##### Поиск платформ с самыми высокими продажами"
   ]
  },
  {
   "cell_type": "code",
   "execution_count": 15,
   "metadata": {},
   "outputs": [
    {
     "data": {
      "text/plain": [
       "platform\n",
       "PS2     1233.56\n",
       "X360     961.24\n",
       "PS3      931.33\n",
       "Wii      891.18\n",
       "DS       802.78\n",
       "PS       727.58\n",
       "PS4      314.14\n",
       "GBA      312.88\n",
       "PSP      289.53\n",
       "3DS      257.81\n",
       "PC       255.76\n",
       "GB       254.43\n",
       "XB       251.57\n",
       "NES      251.05\n",
       "N64      218.01\n",
       "SNES     200.04\n",
       "GC       196.73\n",
       "XOne     159.32\n",
       "2600      86.48\n",
       "WiiU      82.19\n",
       "PSV       53.81\n",
       "SAT       33.59\n",
       "GEN       28.35\n",
       "DC        15.95\n",
       "SCD        1.86\n",
       "NG         1.44\n",
       "WS         1.42\n",
       "TG16       0.16\n",
       "3DO        0.10\n",
       "GG         0.04\n",
       "PCFX       0.03\n",
       "Name: total_sales, dtype: float64"
      ]
     },
     "execution_count": 15,
     "metadata": {},
     "output_type": "execute_result"
    }
   ],
   "source": [
    "data.groupby('platform')['total_sales'].sum().sort_values(ascending=False)"
   ]
  },
  {
   "cell_type": "markdown",
   "metadata": {},
   "source": [
    "**Вывод**: В 5-ку платформ с самыми высокими продажами вошли: PS2, X360, PS3, Wii, DS. Значения продажа находятся в диапозоне от 802.78 до 1233.56."
   ]
  },
  {
   "cell_type": "markdown",
   "metadata": {},
   "source": [
    "##### Построение распределения продаж по годам"
   ]
  },
  {
   "cell_type": "code",
   "execution_count": 16,
   "metadata": {},
   "outputs": [
    {
     "data": {
      "image/png": "[encoded data removed]",
      "text/plain": [
       "<Figure size 1008x504 with 1 Axes>"
      ]
     },
     "metadata": {
      "needs_background": "light"
     },
     "output_type": "display_data"
    }
   ],
   "source": [
    "top_platforms = data.groupby('platform')['total_sales'].sum().sort_values(ascending=False).head(5).index\n",
    "top_data = data[data['platform'].isin(top_platforms)]\n",
    "sales_by_year = top_data.groupby(['year_of_release', 'platform'])['total_sales'].sum().unstack()\n",
    "sales_by_year.plot(kind='bar', stacked=True, figsize=(14, 7), colormap='tab10')\n",
    "plt.title('Продажи по годам (топ-5 платформ)')\n",
    "plt.xlabel('Год релиза')\n",
    "plt.ylabel('Суммарные продажи')\n",
    "plt.legend(title='Платформа')\n",
    "plt.xticks(rotation=45)\n",
    "plt.grid(True)\n",
    "plt.show()"
   ]
  },
  {
   "cell_type": "markdown",
   "metadata": {},
   "source": [
    "**Вывод**: Платформы, которые уже существуют не изчезают полностью, но примерно каждые 5 лет более новая платформа вытесняет старые платформы."
   ]
  },
  {
   "cell_type": "markdown",
   "metadata": {},
   "source": [
    "##### Посроение распределения по актуальным годам"
   ]
  },
  {
   "cell_type": "code",
   "execution_count": 17,
   "metadata": {},
   "outputs": [],
   "source": [
    "actual_data = data.loc[(data['year_of_release']>=2012)&(data['year_of_release']<=2016)]"
   ]
  },
  {
   "cell_type": "code",
   "execution_count": 18,
   "metadata": {},
   "outputs": [
    {
     "data": {
      "image/png": "[encoded data removed]",
      "text/plain": [
       "<Figure size 1008x504 with 1 Axes>"
      ]
     },
     "metadata": {
      "needs_background": "light"
     },
     "output_type": "display_data"
    }
   ],
   "source": [
    "top_platforms = actual_data.groupby('platform')['total_sales'].sum().sort_values(ascending=False).head(5).index\n",
    "top_data = actual_data[actual_data['platform'].isin(top_platforms)]\n",
    "sales_by_year = top_data.groupby(['year_of_release', 'platform'])['total_sales'].sum().unstack()\n",
    "sales_by_year.plot(kind='bar', stacked=True, figsize=(14, 7), colormap='tab10')\n",
    "plt.title('Продажи по годам (топ-5 платформ)')\n",
    "plt.xlabel('Год релиза')\n",
    "plt.ylabel('Суммарные продажи')\n",
    "plt.legend(title='Платформа')\n",
    "plt.xticks(rotation=45)\n",
    "plt.grid(True)\n",
    "plt.show()"
   ]
  },
  {
   "cell_type": "markdown",
   "metadata": {},
   "source": [
    "**Вывод**: с 2012 по 2014 можно выделить 3 лидерующие платформы, которые остаются на рынке: X360, PS3, PS4(вышла в 2013 году и к 2014 вытеснила PS3 и 3DS). В более актуальные года(2015 и 2016) лидерами остаются: XOne, PS4, PS3. Однако, по сравнению с предыдущими годами общим объём продаж в 2016 году снизился более чем в два раза по сравнению с 2012-2015 года."
   ]
  },
  {
   "cell_type": "markdown",
   "metadata": {},
   "source": [
    "##### Построение ящика с усами "
   ]
  },
  {
   "cell_type": "code",
   "execution_count": 19,
   "metadata": {},
   "outputs": [
    {
     "data": {
      "text/plain": [
       "<AxesSubplot:title={'center':'total_sales'}, xlabel='platform'>"
      ]
     },
     "execution_count": 19,
     "metadata": {},
     "output_type": "execute_result"
    },
    {
     "data": {
      "image/png": "[encoded data removed]",
      "text/plain": [
       "<Figure size 1008x504 with 1 Axes>"
      ]
     },
     "metadata": {
      "needs_background": "light"
     },
     "output_type": "display_data"
    }
   ],
   "source": [
    "top_data.boxplot(column='total_sales', by='platform', figsize=(14, 7))"
   ]
  },
  {
   "cell_type": "code",
   "execution_count": 20,
   "metadata": {},
   "outputs": [
    {
     "data": {
      "text/plain": [
       "(0.0, 3.0)"
      ]
     },
     "execution_count": 20,
     "metadata": {},
     "output_type": "execute_result"
    },
    {
     "data": {
      "image/png": "[encoded data removed]",
      "text/plain": [
       "<Figure size 1008x504 with 1 Axes>"
      ]
     },
     "metadata": {
      "needs_background": "light"
     },
     "output_type": "display_data"
    }
   ],
   "source": [
    "top_data.boxplot(column='total_sales', by='platform', figsize=(14, 7))\n",
    "plt.ylim(0,3)"
   ]
  },
  {
   "cell_type": "markdown",
   "metadata": {},
   "source": [
    "**Описание**: После ограничения оси Y до диапазона от 0 до 3 стало видно, что основная масса продаж на всех платформах сосредоточена в пределах 0–1 млн копий. Медианные значения продаж у всех платформ схожи и находятся на уровне около 0.2–0.3 млн копий. Распределение имеет большое количество выбросов — редких игр с очень высокими продажами, которые значительно превышают основной диапазон. Это говорит о том, что рынок видеоигр состоит в основном из большого числа игр со скромными продажами и небольшого числа хитов-бестселлеров."
   ]
  },
  {
   "cell_type": "markdown",
   "metadata": {},
   "source": [
    "##### Вычисление корреляции между продажами и оценками"
   ]
  },
  {
   "cell_type": "code",
   "execution_count": 21,
   "metadata": {
    "scrolled": false
   },
   "outputs": [
    {
     "data": {
      "image/png": "[encoded data removed]",
      "text/plain": [
       "<Figure size 576x360 with 1 Axes>"
      ]
     },
     "metadata": {
      "needs_background": "light"
     },
     "output_type": "display_data"
    },
    {
     "data": {
      "text/html": [
       "<div>\n",
       "<style scoped>\n",
       "    .dataframe tbody tr th:only-of-type {\n",
       "        vertical-align: middle;\n",
       "    }\n",
       "\n",
       "    .dataframe tbody tr th {\n",
       "        vertical-align: top;\n",
       "    }\n",
       "\n",
       "    .dataframe thead th {\n",
       "        text-align: right;\n",
       "    }\n",
       "</style>\n",
       "<table border=\"1\" class=\"dataframe\">\n",
       "  <thead>\n",
       "    <tr style=\"text-align: right;\">\n",
       "      <th></th>\n",
       "      <th>total_sales</th>\n",
       "      <th>critic_score</th>\n",
       "    </tr>\n",
       "  </thead>\n",
       "  <tbody>\n",
       "    <tr>\n",
       "      <th>total_sales</th>\n",
       "      <td>1.000000</td>\n",
       "      <td>0.294631</td>\n",
       "    </tr>\n",
       "    <tr>\n",
       "      <th>critic_score</th>\n",
       "      <td>0.294631</td>\n",
       "      <td>1.000000</td>\n",
       "    </tr>\n",
       "  </tbody>\n",
       "</table>\n",
       "</div>"
      ],
      "text/plain": [
       "              total_sales  critic_score\n",
       "total_sales      1.000000      0.294631\n",
       "critic_score     0.294631      1.000000"
      ]
     },
     "metadata": {},
     "output_type": "display_data"
    },
    {
     "data": {
      "image/png": "[encoded data removed]",
      "text/plain": [
       "<Figure size 576x360 with 1 Axes>"
      ]
     },
     "metadata": {
      "needs_background": "light"
     },
     "output_type": "display_data"
    },
    {
     "data": {
      "text/html": [
       "<div>\n",
       "<style scoped>\n",
       "    .dataframe tbody tr th:only-of-type {\n",
       "        vertical-align: middle;\n",
       "    }\n",
       "\n",
       "    .dataframe tbody tr th {\n",
       "        vertical-align: top;\n",
       "    }\n",
       "\n",
       "    .dataframe thead th {\n",
       "        text-align: right;\n",
       "    }\n",
       "</style>\n",
       "<table border=\"1\" class=\"dataframe\">\n",
       "  <thead>\n",
       "    <tr style=\"text-align: right;\">\n",
       "      <th></th>\n",
       "      <th>total_sales</th>\n",
       "      <th>user_score</th>\n",
       "    </tr>\n",
       "  </thead>\n",
       "  <tbody>\n",
       "    <tr>\n",
       "      <th>total_sales</th>\n",
       "      <td>1.000000</td>\n",
       "      <td>-0.015729</td>\n",
       "    </tr>\n",
       "    <tr>\n",
       "      <th>user_score</th>\n",
       "      <td>-0.015729</td>\n",
       "      <td>1.000000</td>\n",
       "    </tr>\n",
       "  </tbody>\n",
       "</table>\n",
       "</div>"
      ],
      "text/plain": [
       "             total_sales  user_score\n",
       "total_sales     1.000000   -0.015729\n",
       "user_score     -0.015729    1.000000"
      ]
     },
     "metadata": {},
     "output_type": "display_data"
    },
    {
     "data": {
      "image/png": "[encoded data removed]",
      "text/plain": [
       "<Figure size 576x360 with 1 Axes>"
      ]
     },
     "metadata": {
      "needs_background": "light"
     },
     "output_type": "display_data"
    },
    {
     "data": {
      "text/html": [
       "<div>\n",
       "<style scoped>\n",
       "    .dataframe tbody tr th:only-of-type {\n",
       "        vertical-align: middle;\n",
       "    }\n",
       "\n",
       "    .dataframe tbody tr th {\n",
       "        vertical-align: top;\n",
       "    }\n",
       "\n",
       "    .dataframe thead th {\n",
       "        text-align: right;\n",
       "    }\n",
       "</style>\n",
       "<table border=\"1\" class=\"dataframe\">\n",
       "  <thead>\n",
       "    <tr style=\"text-align: right;\">\n",
       "      <th></th>\n",
       "      <th>total_sales</th>\n",
       "      <th>critic_score</th>\n",
       "    </tr>\n",
       "  </thead>\n",
       "  <tbody>\n",
       "    <tr>\n",
       "      <th>total_sales</th>\n",
       "      <td>1.000000</td>\n",
       "      <td>0.455961</td>\n",
       "    </tr>\n",
       "    <tr>\n",
       "      <th>critic_score</th>\n",
       "      <td>0.455961</td>\n",
       "      <td>1.000000</td>\n",
       "    </tr>\n",
       "  </tbody>\n",
       "</table>\n",
       "</div>"
      ],
      "text/plain": [
       "              total_sales  critic_score\n",
       "total_sales      1.000000      0.455961\n",
       "critic_score     0.455961      1.000000"
      ]
     },
     "metadata": {},
     "output_type": "display_data"
    },
    {
     "data": {
      "image/png": "[encoded data removed]",
      "text/plain": [
       "<Figure size 576x360 with 1 Axes>"
      ]
     },
     "metadata": {
      "needs_background": "light"
     },
     "output_type": "display_data"
    },
    {
     "data": {
      "text/html": [
       "<div>\n",
       "<style scoped>\n",
       "    .dataframe tbody tr th:only-of-type {\n",
       "        vertical-align: middle;\n",
       "    }\n",
       "\n",
       "    .dataframe tbody tr th {\n",
       "        vertical-align: top;\n",
       "    }\n",
       "\n",
       "    .dataframe thead th {\n",
       "        text-align: right;\n",
       "    }\n",
       "</style>\n",
       "<table border=\"1\" class=\"dataframe\">\n",
       "  <thead>\n",
       "    <tr style=\"text-align: right;\">\n",
       "      <th></th>\n",
       "      <th>total_sales</th>\n",
       "      <th>user_score</th>\n",
       "    </tr>\n",
       "  </thead>\n",
       "  <tbody>\n",
       "    <tr>\n",
       "      <th>total_sales</th>\n",
       "      <td>1.000000</td>\n",
       "      <td>0.246599</td>\n",
       "    </tr>\n",
       "    <tr>\n",
       "      <th>user_score</th>\n",
       "      <td>0.246599</td>\n",
       "      <td>1.000000</td>\n",
       "    </tr>\n",
       "  </tbody>\n",
       "</table>\n",
       "</div>"
      ],
      "text/plain": [
       "             total_sales  user_score\n",
       "total_sales     1.000000    0.246599\n",
       "user_score      0.246599    1.000000"
      ]
     },
     "metadata": {},
     "output_type": "display_data"
    },
    {
     "data": {
      "image/png": "[encoded data removed]",
      "text/plain": [
       "<Figure size 576x360 with 1 Axes>"
      ]
     },
     "metadata": {
      "needs_background": "light"
     },
     "output_type": "display_data"
    },
    {
     "data": {
      "text/html": [
       "<div>\n",
       "<style scoped>\n",
       "    .dataframe tbody tr th:only-of-type {\n",
       "        vertical-align: middle;\n",
       "    }\n",
       "\n",
       "    .dataframe tbody tr th {\n",
       "        vertical-align: top;\n",
       "    }\n",
       "\n",
       "    .dataframe thead th {\n",
       "        text-align: right;\n",
       "    }\n",
       "</style>\n",
       "<table border=\"1\" class=\"dataframe\">\n",
       "  <thead>\n",
       "    <tr style=\"text-align: right;\">\n",
       "      <th></th>\n",
       "      <th>total_sales</th>\n",
       "      <th>critic_score</th>\n",
       "    </tr>\n",
       "  </thead>\n",
       "  <tbody>\n",
       "    <tr>\n",
       "      <th>total_sales</th>\n",
       "      <td>1.000000</td>\n",
       "      <td>0.425168</td>\n",
       "    </tr>\n",
       "    <tr>\n",
       "      <th>critic_score</th>\n",
       "      <td>0.425168</td>\n",
       "      <td>1.000000</td>\n",
       "    </tr>\n",
       "  </tbody>\n",
       "</table>\n",
       "</div>"
      ],
      "text/plain": [
       "              total_sales  critic_score\n",
       "total_sales      1.000000      0.425168\n",
       "critic_score     0.425168      1.000000"
      ]
     },
     "metadata": {},
     "output_type": "display_data"
    },
    {
     "data": {
      "image/png": "[encoded data removed]",
      "text/plain": [
       "<Figure size 576x360 with 1 Axes>"
      ]
     },
     "metadata": {
      "needs_background": "light"
     },
     "output_type": "display_data"
    },
    {
     "data": {
      "text/html": [
       "<div>\n",
       "<style scoped>\n",
       "    .dataframe tbody tr th:only-of-type {\n",
       "        vertical-align: middle;\n",
       "    }\n",
       "\n",
       "    .dataframe tbody tr th {\n",
       "        vertical-align: top;\n",
       "    }\n",
       "\n",
       "    .dataframe thead th {\n",
       "        text-align: right;\n",
       "    }\n",
       "</style>\n",
       "<table border=\"1\" class=\"dataframe\">\n",
       "  <thead>\n",
       "    <tr style=\"text-align: right;\">\n",
       "      <th></th>\n",
       "      <th>total_sales</th>\n",
       "      <th>user_score</th>\n",
       "    </tr>\n",
       "  </thead>\n",
       "  <tbody>\n",
       "    <tr>\n",
       "      <th>total_sales</th>\n",
       "      <td>1.000000</td>\n",
       "      <td>0.070627</td>\n",
       "    </tr>\n",
       "    <tr>\n",
       "      <th>user_score</th>\n",
       "      <td>0.070627</td>\n",
       "      <td>1.000000</td>\n",
       "    </tr>\n",
       "  </tbody>\n",
       "</table>\n",
       "</div>"
      ],
      "text/plain": [
       "             total_sales  user_score\n",
       "total_sales     1.000000    0.070627\n",
       "user_score      0.070627    1.000000"
      ]
     },
     "metadata": {},
     "output_type": "display_data"
    },
    {
     "data": {
      "image/png": "[encoded data removed]",
      "text/plain": [
       "<Figure size 576x360 with 1 Axes>"
      ]
     },
     "metadata": {
      "needs_background": "light"
     },
     "output_type": "display_data"
    },
    {
     "data": {
      "text/html": [
       "<div>\n",
       "<style scoped>\n",
       "    .dataframe tbody tr th:only-of-type {\n",
       "        vertical-align: middle;\n",
       "    }\n",
       "\n",
       "    .dataframe tbody tr th {\n",
       "        vertical-align: top;\n",
       "    }\n",
       "\n",
       "    .dataframe thead th {\n",
       "        text-align: right;\n",
       "    }\n",
       "</style>\n",
       "<table border=\"1\" class=\"dataframe\">\n",
       "  <thead>\n",
       "    <tr style=\"text-align: right;\">\n",
       "      <th></th>\n",
       "      <th>total_sales</th>\n",
       "      <th>critic_score</th>\n",
       "    </tr>\n",
       "  </thead>\n",
       "  <tbody>\n",
       "    <tr>\n",
       "      <th>total_sales</th>\n",
       "      <td>1.000000</td>\n",
       "      <td>0.461184</td>\n",
       "    </tr>\n",
       "    <tr>\n",
       "      <th>critic_score</th>\n",
       "      <td>0.461184</td>\n",
       "      <td>1.000000</td>\n",
       "    </tr>\n",
       "  </tbody>\n",
       "</table>\n",
       "</div>"
      ],
      "text/plain": [
       "              total_sales  critic_score\n",
       "total_sales      1.000000      0.461184\n",
       "critic_score     0.461184      1.000000"
      ]
     },
     "metadata": {},
     "output_type": "display_data"
    },
    {
     "data": {
      "image/png": "[encoded data removed]",
      "text/plain": [
       "<Figure size 576x360 with 1 Axes>"
      ]
     },
     "metadata": {
      "needs_background": "light"
     },
     "output_type": "display_data"
    },
    {
     "data": {
      "text/html": [
       "<div>\n",
       "<style scoped>\n",
       "    .dataframe tbody tr th:only-of-type {\n",
       "        vertical-align: middle;\n",
       "    }\n",
       "\n",
       "    .dataframe tbody tr th {\n",
       "        vertical-align: top;\n",
       "    }\n",
       "\n",
       "    .dataframe thead th {\n",
       "        text-align: right;\n",
       "    }\n",
       "</style>\n",
       "<table border=\"1\" class=\"dataframe\">\n",
       "  <thead>\n",
       "    <tr style=\"text-align: right;\">\n",
       "      <th></th>\n",
       "      <th>total_sales</th>\n",
       "      <th>user_score</th>\n",
       "    </tr>\n",
       "  </thead>\n",
       "  <tbody>\n",
       "    <tr>\n",
       "      <th>total_sales</th>\n",
       "      <td>1.000000</td>\n",
       "      <td>0.134361</td>\n",
       "    </tr>\n",
       "    <tr>\n",
       "      <th>user_score</th>\n",
       "      <td>0.134361</td>\n",
       "      <td>1.000000</td>\n",
       "    </tr>\n",
       "  </tbody>\n",
       "</table>\n",
       "</div>"
      ],
      "text/plain": [
       "             total_sales  user_score\n",
       "total_sales     1.000000    0.134361\n",
       "user_score      0.134361    1.000000"
      ]
     },
     "metadata": {},
     "output_type": "display_data"
    },
    {
     "data": {
      "image/png": "[encoded data removed]",
      "text/plain": [
       "<Figure size 576x360 with 1 Axes>"
      ]
     },
     "metadata": {
      "needs_background": "light"
     },
     "output_type": "display_data"
    },
    {
     "data": {
      "text/html": [
       "<div>\n",
       "<style scoped>\n",
       "    .dataframe tbody tr th:only-of-type {\n",
       "        vertical-align: middle;\n",
       "    }\n",
       "\n",
       "    .dataframe tbody tr th {\n",
       "        vertical-align: top;\n",
       "    }\n",
       "\n",
       "    .dataframe thead th {\n",
       "        text-align: right;\n",
       "    }\n",
       "</style>\n",
       "<table border=\"1\" class=\"dataframe\">\n",
       "  <thead>\n",
       "    <tr style=\"text-align: right;\">\n",
       "      <th></th>\n",
       "      <th>total_sales</th>\n",
       "      <th>critic_score</th>\n",
       "    </tr>\n",
       "  </thead>\n",
       "  <tbody>\n",
       "    <tr>\n",
       "      <th>total_sales</th>\n",
       "      <td>1.000000</td>\n",
       "      <td>0.176023</td>\n",
       "    </tr>\n",
       "    <tr>\n",
       "      <th>critic_score</th>\n",
       "      <td>0.176023</td>\n",
       "      <td>1.000000</td>\n",
       "    </tr>\n",
       "  </tbody>\n",
       "</table>\n",
       "</div>"
      ],
      "text/plain": [
       "              total_sales  critic_score\n",
       "total_sales      1.000000      0.176023\n",
       "critic_score     0.176023      1.000000"
      ]
     },
     "metadata": {},
     "output_type": "display_data"
    },
    {
     "data": {
      "image/png": "[encoded data removed]",
      "text/plain": [
       "<Figure size 576x360 with 1 Axes>"
      ]
     },
     "metadata": {
      "needs_background": "light"
     },
     "output_type": "display_data"
    },
    {
     "data": {
      "text/html": [
       "<div>\n",
       "<style scoped>\n",
       "    .dataframe tbody tr th:only-of-type {\n",
       "        vertical-align: middle;\n",
       "    }\n",
       "\n",
       "    .dataframe tbody tr th {\n",
       "        vertical-align: top;\n",
       "    }\n",
       "\n",
       "    .dataframe thead th {\n",
       "        text-align: right;\n",
       "    }\n",
       "</style>\n",
       "<table border=\"1\" class=\"dataframe\">\n",
       "  <thead>\n",
       "    <tr style=\"text-align: right;\">\n",
       "      <th></th>\n",
       "      <th>total_sales</th>\n",
       "      <th>user_score</th>\n",
       "    </tr>\n",
       "  </thead>\n",
       "  <tbody>\n",
       "    <tr>\n",
       "      <th>total_sales</th>\n",
       "      <td>1.000000</td>\n",
       "      <td>0.183916</td>\n",
       "    </tr>\n",
       "    <tr>\n",
       "      <th>user_score</th>\n",
       "      <td>0.183916</td>\n",
       "      <td>1.000000</td>\n",
       "    </tr>\n",
       "  </tbody>\n",
       "</table>\n",
       "</div>"
      ],
      "text/plain": [
       "             total_sales  user_score\n",
       "total_sales     1.000000    0.183916\n",
       "user_score      0.183916    1.000000"
      ]
     },
     "metadata": {},
     "output_type": "display_data"
    }
   ],
   "source": [
    "platforms = ['PS4', 'X360', 'XOne', 'PS3', '3DS']\n",
    "platform_data = actual_data[actual_data['platform'].isin(platforms)].copy()\n",
    "platform_data['critic_score'] = platform_data['critic_score'].replace(-1, np.nan)\n",
    "platform_data['user_score'] = platform_data['user_score'].replace(-1, np.nan)\n",
    "platform_data = platform_data.dropna(subset=['critic_score', 'user_score', 'total_sales'])\n",
    "platform_data = platform_data[platform_data['total_sales'] < 2]\n",
    "\n",
    "for platform in platforms:\n",
    "    plat = platform_data[platform_data['platform'] == platform]\n",
    "    \n",
    "    plt.figure(figsize=(8,5))\n",
    "    plt.scatter(plat['total_sales'], plat['critic_score'], alpha=0.5)\n",
    "    plt.title(f'Связь продаж и оценок критиков ({platform})')\n",
    "    plt.xlabel('Продажи')\n",
    "    plt.ylabel('Оценка критиков')\n",
    "    plt.ylim(0, 100)\n",
    "    plt.grid(True)\n",
    "    plt.show()\n",
    "    \n",
    "    display(plat[['total_sales', 'critic_score']].corr())\n",
    "    \n",
    "    plt.figure(figsize=(8,5))\n",
    "    plt.scatter(plat['total_sales'], plat['user_score'], alpha=0.5)\n",
    "    plt.title(f'Связь продаж и оценок пользователей ({platform})')\n",
    "    plt.xlabel('Продажи')\n",
    "    plt.ylabel('Оценка пользователей')\n",
    "    plt.ylim(0, 10)\n",
    "    plt.grid(True)\n",
    "    plt.show()\n",
    "    \n",
    "    display(plat[['total_sales', 'user_score']].corr())\n"
   ]
  },
  {
   "cell_type": "markdown",
   "metadata": {},
   "source": [
    "**Вывод**: На всех платформах (PS4, PS3, X360, XOne, 3DS) выявлена слабая положительная связь между продажами и оценками. Корреляция с оценками критиков выше (около 0.42–0.46 для PS4, PS3, X360, XOne), чем с оценками пользователей (около 0.1–0.25). На 3DS зависимости ещё слабее. Основная масса игр имеет продажи около 0.3 млн копий, отдельные хиты значительно выделяются."
   ]
  },
  {
   "cell_type": "markdown",
   "metadata": {},
   "source": [
    "##### Распределение по жанрам"
   ]
  },
  {
   "cell_type": "code",
   "execution_count": 22,
   "metadata": {},
   "outputs": [
    {
     "data": {
      "image/png": "[encoded data removed]",
      "text/plain": [
       "<Figure size 1008x504 with 1 Axes>"
      ]
     },
     "metadata": {
      "needs_background": "light"
     },
     "output_type": "display_data"
    }
   ],
   "source": [
    "plt.title('Общее распределение по жанрам')\n",
    "actual_data['genre'].value_counts().plot(kind='bar', figsize=(14, 7))\n",
    "plt.xticks(rotation=45)\n",
    "plt.xlabel('Жанр')\n",
    "plt.grid(True)"
   ]
  },
  {
   "cell_type": "markdown",
   "metadata": {},
   "source": [
    "**Вывод**: Наибольшое кол-во выпущенных игр иметю жанр `Action`, кол-во игр с остальным играми находятся в диапозоне от 50 до 380. Наименьшее кол-во игр встречается в жанрах `Strategy` и `Puzzle`."
   ]
  },
  {
   "cell_type": "code",
   "execution_count": 23,
   "metadata": {},
   "outputs": [
    {
     "data": {
      "text/plain": [
       "<Figure size 1008x504 with 0 Axes>"
      ]
     },
     "metadata": {},
     "output_type": "display_data"
    },
    {
     "data": {
      "image/png": "[encoded data removed]",
      "text/plain": [
       "<Figure size 1008x504 with 1 Axes>"
      ]
     },
     "metadata": {
      "needs_background": "light"
     },
     "output_type": "display_data"
    },
    {
     "data": {
      "text/plain": [
       "genre\n",
       "Shooter         0.440\n",
       "Sports          0.240\n",
       "Platform        0.210\n",
       "Role-Playing    0.140\n",
       "Racing          0.140\n",
       "Fighting        0.130\n",
       "Action          0.120\n",
       "Misc            0.120\n",
       "Simulation      0.120\n",
       "Strategy        0.080\n",
       "Puzzle          0.045\n",
       "Adventure       0.030\n",
       "Name: total_sales, dtype: float64"
      ]
     },
     "metadata": {},
     "output_type": "display_data"
    }
   ],
   "source": [
    "plt.figure(figsize=(14, 7))\n",
    "actual_data.boxplot(column='total_sales', by='genre', showfliers=False, figsize=(14, 7))\n",
    "plt.title('Распределение продаж по жанрам')\n",
    "plt.suptitle('')\n",
    "plt.xlabel('Жанр')\n",
    "plt.ylabel('Продажи')\n",
    "plt.xticks(rotation=45)\n",
    "plt.grid(True)\n",
    "plt.show()\n",
    "\n",
    "display(actual_data.groupby('genre')['total_sales'].median().sort_values(ascending=False))\n"
   ]
  },
  {
   "cell_type": "markdown",
   "metadata": {},
   "source": [
    "**Вывод**: Наибольшие медианные продажи демонстрируют игры жанра Shooter. Второе и третье место по медианным продажам занимают жанры Sports и Platform. Жанры Role-Playing и Racing показывают средние медианные продажи. Наименьшие медианные продажи характерны для жанров Strategy, Puzzle и Adventure. В целом по жанрам видно, что продажи сильно различаются и часто зависят от популярности отдельных хитов."
   ]
  },
  {
   "cell_type": "markdown",
   "metadata": {},
   "source": [
    "#### Портрет пользователя"
   ]
  },
  {
   "cell_type": "markdown",
   "metadata": {},
   "source": [
    "##### Самые популярные платформы (топ-5)."
   ]
  },
  {
   "cell_type": "code",
   "execution_count": 24,
   "metadata": {},
   "outputs": [
    {
     "data": {
      "text/plain": [
       "Text(0.5, 1.0, 'Топ-5 платформ в Японии (JP)')"
      ]
     },
     "execution_count": 24,
     "metadata": {},
     "output_type": "execute_result"
    },
    {
     "data": {
      "image/png": "[encoded data removed]",
      "text/plain": [
       "<Figure size 1296x432 with 3 Axes>"
      ]
     },
     "metadata": {},
     "output_type": "display_data"
    }
   ],
   "source": [
    "platform_sales = actual_data.groupby('platform')[['na_sales', 'eu_sales', 'jp_sales']].sum()\n",
    "eu_sales = platform_sales['eu_sales'].sort_values(ascending=False).head(5)\n",
    "na_sales = platform_sales['na_sales'].sort_values(ascending=False).head(5)\n",
    "jp_sales = platform_sales['jp_sales'].sort_values(ascending=False).head(5)\n",
    "fig, axes = plt.subplots(1, 3, figsize=(18, 6))\n",
    "axes[0].pie(na_sales, labels=na_sales.index, autopct='%1.1f%%', startangle=90)\n",
    "axes[0].set_title('Топ-5 платформ в Северной Америке (NA)')\n",
    "axes[1].pie(eu_sales, labels=eu_sales.index, autopct='%1.1f%%', startangle=90)\n",
    "axes[1].set_title('Топ-5 платформ в Европе (EU)')\n",
    "axes[2].pie(jp_sales, labels=jp_sales.index, autopct='%1.1f%%', startangle=90)\n",
    "axes[2].set_title('Топ-5 платформ в Японии (JP)')"
   ]
  },
  {
   "cell_type": "markdown",
   "metadata": {},
   "source": [
    "**Вывод**: В Северной Америке лидируют X360 и PS4. В Европе главные продажи у PS3 и PS4. В Японии доминирует портативная 3DS. В NA и EU популярнее домашние консоли, в JP — портативные устройства. Предпочтения сильно отличаются по регионам"
   ]
  },
  {
   "cell_type": "markdown",
   "metadata": {},
   "source": [
    "##### Самые популярные жанры (топ-5)"
   ]
  },
  {
   "cell_type": "code",
   "execution_count": 25,
   "metadata": {},
   "outputs": [
    {
     "data": {
      "text/plain": [
       "Text(0.5, 1.0, 'Топ-5 жанров в Японии (JP)')"
      ]
     },
     "execution_count": 25,
     "metadata": {},
     "output_type": "execute_result"
    },
    {
     "data": {
      "image/png": "[encoded data removed]",
      "text/plain": [
       "<Figure size 1296x432 with 3 Axes>"
      ]
     },
     "metadata": {},
     "output_type": "display_data"
    }
   ],
   "source": [
    "genre_sales = actual_data.groupby('genre')[['na_sales', 'eu_sales', 'jp_sales']].sum()\n",
    "top5_na = genre_sales['na_sales'].sort_values(ascending=False).head(5)\n",
    "top5_eu = genre_sales['eu_sales'].sort_values(ascending=False).head(5)\n",
    "top5_jp = genre_sales['jp_sales'].sort_values(ascending=False).head(5)\n",
    "fig, axes = plt.subplots(1, 3, figsize=(18, 6))\n",
    "axes[0].pie(top5_na, labels=top5_na.index, autopct='%1.1f%%', startangle=90)\n",
    "axes[0].set_title('Топ-5 жанров в Северной Америке (NA)')\n",
    "axes[1].pie(top5_eu, labels=top5_eu.index, autopct='%1.1f%%', startangle=90)\n",
    "axes[1].set_title('Топ-5 жанров в Европе (EU)')\n",
    "axes[2].pie(top5_jp, labels=top5_jp.index, autopct='%1.1f%%', startangle=90)\n",
    "axes[2].set_title('Топ-5 жанров в Японии (JP)')"
   ]
  },
  {
   "cell_type": "markdown",
   "metadata": {},
   "source": [
    "**Пояснение разницы**: В Северной Америке, Японии и Европе в топ 5 самых продаваемых жанров входят почти одинаковые жанры, кроме одного жанра в каждом, но с небольшими разницами, и в Америке и в Европе два самых популярных жанра, это `Action` и `Shooter`, в Америке 5-ку закрывают такие жанры как: `Role_Playing` и `Misc`, а в Европе: `Role-Playing` и `Racing`. Что касается Японии, Два самых популярных жанра здесь `Role-Playing` и `Action`, а замыкают топ: `Simulation` и `Fighting`. Можно сделатть вывод, что Америка и Европа отдают предпочтение более динамичным играм с экшеном, а Япония придерживается спокойных и сюжетных жанров."
   ]
  },
  {
   "cell_type": "markdown",
   "metadata": {},
   "source": [
    "##### Влияет ли рейтинг ESRB на продажи в отдельном регионе?"
   ]
  },
  {
   "cell_type": "code",
   "execution_count": 26,
   "metadata": {},
   "outputs": [
    {
     "data": {
      "image/png": "[encoded data removed]",
      "text/plain": [
       "<Figure size 432x288 with 1 Axes>"
      ]
     },
     "metadata": {
      "needs_background": "light"
     },
     "output_type": "display_data"
    },
    {
     "data": {
      "image/png": "[encoded data removed]",
      "text/plain": [
       "<Figure size 432x288 with 1 Axes>"
      ]
     },
     "metadata": {
      "needs_background": "light"
     },
     "output_type": "display_data"
    },
    {
     "data": {
      "image/png": "[encoded data removed]",
      "text/plain": [
       "<Figure size 432x288 with 1 Axes>"
      ]
     },
     "metadata": {
      "needs_background": "light"
     },
     "output_type": "display_data"
    }
   ],
   "source": [
    "rating_data = actual_data.groupby('rating')[['na_sales', 'eu_sales', 'jp_sales']].sum()\n",
    "\n",
    "plt.title('Америка')\n",
    "rating_data['na_sales'].sort_values(ascending=False).plot(kind='bar', color='green')\n",
    "plt.xticks(rotation=45)\n",
    "plt.xlabel('Рейтинг ESRB')\n",
    "plt.ylabel('Продажи')\n",
    "plt.grid(True)\n",
    "plt.show()\n",
    "\n",
    "plt.title('Европа')\n",
    "rating_data['eu_sales'].sort_values(ascending=False).plot(kind='bar', color='blue')\n",
    "plt.xticks(rotation=45)\n",
    "plt.xlabel('Рейтинг')\n",
    "plt.ylabel('Продажи')\n",
    "plt.grid(True)\n",
    "plt.show()\n",
    "\n",
    "plt.title('Япония')\n",
    "rating_data['jp_sales'].sort_values(ascending=False).plot(kind='bar', color='red')\n",
    "plt.xticks(rotation=45)\n",
    "plt.xlabel('Рейтинг')\n",
    "plt.ylabel('Продажи')\n",
    "plt.grid(True)\n",
    "plt.show()"
   ]
  },
  {
   "cell_type": "markdown",
   "metadata": {},
   "source": [
    "**Вывод**: В Америке и Европе популярность игр с определённым рейтингом расположена одинаково. И в Америке и в Европе самыми популячрными являются игры с рейтингом **М**(для взрослых), далее следуют игры с меткой **Е**(для всех). В Японии ситуация немного другая, самые популярные игры, это игры с метками **E**(для всех) и **T**(для подростков). Однако, продажи в Японии с рейтингами **E, T, M, E10+** значительно ниже чем в Америке и Европе. Можно сделать вывод что рейтинг ESRB влияет на продажи игр в Америке и Европе, а в Японии почти нет."
   ]
  },
  {
   "cell_type": "code",
   "execution_count": 27,
   "metadata": {},
   "outputs": [
    {
     "data": {
      "text/plain": [
       "0"
      ]
     },
     "execution_count": 27,
     "metadata": {},
     "output_type": "execute_result"
    }
   ],
   "source": [
    "actual_data['user_score'].isna().sum()"
   ]
  },
  {
   "cell_type": "markdown",
   "metadata": {},
   "source": [
    "#### Проверка гипотез"
   ]
  },
  {
   "cell_type": "markdown",
   "metadata": {},
   "source": [
    "##### Средние пользовательские рейтинги платформ Xbox One и PC одинаковые"
   ]
  },
  {
   "cell_type": "markdown",
   "metadata": {},
   "source": [
    "**Формулировка гипотез**:\n",
    "```\n",
    "H0(нулевая гипотеза): Средние пользовательские рейтинги для платформ Xbox One и PC равны.\n",
    "H1(альтернативная гипотеза): Средние пользовательские рейтинги для платформ Xbox One и PC не равны.\n",
    "```"
   ]
  },
  {
   "cell_type": "code",
   "execution_count": 28,
   "metadata": {},
   "outputs": [
    {
     "data": {
      "text/plain": [
       "'Среднее для Xbox:'"
      ]
     },
     "metadata": {},
     "output_type": "display_data"
    },
    {
     "data": {
      "text/plain": [
       "6.521428571428572"
      ]
     },
     "metadata": {},
     "output_type": "display_data"
    },
    {
     "data": {
      "text/plain": [
       "'Среднее для PC:'"
      ]
     },
     "metadata": {},
     "output_type": "display_data"
    },
    {
     "data": {
      "text/plain": [
       "6.4286407766990274"
      ]
     },
     "metadata": {},
     "output_type": "display_data"
    },
    {
     "name": "stdout",
     "output_type": "stream",
     "text": [
      "p-значение: 0.5535080500643661\n",
      "Не отвергаем нулевую гипотезу: средние рейтинги равны.\n"
     ]
    }
   ],
   "source": [
    "xbox = actual_data[(actual_data['platform'] == 'XOne') & (actual_data['user_score'] != -1)]['user_score']\n",
    "pc = actual_data[(actual_data['platform'] == 'PC') & (actual_data['user_score'] != -1)]['user_score']\n",
    "display('Среднее для Xbox:', xbox.mean())\n",
    "display('Среднее для PC:', pc.mean())\n",
    "results = st.ttest_ind(xbox, pc)\n",
    "alpha = 0.05\n",
    "print('p-значение:', results.pvalue)\n",
    "if results.pvalue < alpha:\n",
    "    print('Отвергаем нулевую гипотезу: средние рейтинги разные.')\n",
    "else:\n",
    "    print('Не отвергаем нулевую гипотезу: средние рейтинги равны.')"
   ]
  },
  {
   "cell_type": "markdown",
   "metadata": {},
   "source": [
    "**Вывод**: Проверка т-тестом показала, что средние пользовательские рейтинги действительно равны"
   ]
  },
  {
   "cell_type": "markdown",
   "metadata": {},
   "source": [
    "##### Средние пользовательские рейтинги жанров Action и Sports разные"
   ]
  },
  {
   "cell_type": "markdown",
   "metadata": {},
   "source": [
    "**Формулировка гипотез**:\n",
    "```\n",
    "H0(нулевая гипотеза): Пользовательские рейтинги жанров Action и Sports равны\n",
    "H1(альтернативная гипотеза): Пользовательские рейтинги жанров Action и Sports не равны\n",
    "```"
   ]
  },
  {
   "cell_type": "code",
   "execution_count": 29,
   "metadata": {},
   "outputs": [
    {
     "data": {
      "text/plain": [
       "'Среднее для Action:'"
      ]
     },
     "metadata": {},
     "output_type": "display_data"
    },
    {
     "data": {
      "text/plain": [
       "6.825047801147227"
      ]
     },
     "metadata": {},
     "output_type": "display_data"
    },
    {
     "data": {
      "text/plain": [
       "'Среднее для Sports:'"
      ]
     },
     "metadata": {},
     "output_type": "display_data"
    },
    {
     "data": {
      "text/plain": [
       "5.455670103092784"
      ]
     },
     "metadata": {},
     "output_type": "display_data"
    },
    {
     "data": {
      "text/plain": [
       "'p-value'"
      ]
     },
     "metadata": {},
     "output_type": "display_data"
    },
    {
     "data": {
      "text/plain": [
       "4.8045233804629176e-26"
      ]
     },
     "metadata": {},
     "output_type": "display_data"
    },
    {
     "data": {
      "text/plain": [
       "'Отвергаем нулевую гипотезу'"
      ]
     },
     "metadata": {},
     "output_type": "display_data"
    }
   ],
   "source": [
    "action = actual_data[(actual_data['genre'] == 'Action') & (actual_data['user_score'] != -1)]['user_score']\n",
    "sports = actual_data[(actual_data['genre'] == 'Sports') & (actual_data['user_score'] != -1)]['user_score']\n",
    "display('Среднее для Action:', action.mean())\n",
    "display('Среднее для Sports:', sports.mean())\n",
    "results = st.ttest_ind(action, sports)\n",
    "display('p-value', results.pvalue)\n",
    "alpha=0.05\n",
    "if results.pvalue<alpha:\n",
    "    display('Отвергаем нулевую гипотезу')\n",
    "else:\n",
    "    display('Не удалось отвергнуть нулевую гипотезу')"
   ]
  },
  {
   "cell_type": "markdown",
   "metadata": {},
   "source": [
    "**Вывод**: Проверка т-тестом показала, что пользовательские рейтинги жанров действительно разные."
   ]
  },
  {
   "cell_type": "markdown",
   "metadata": {},
   "source": [
    "**Пояснение**: Нулевая гипотеза (H₀): средние пользовательские рейтинги для сравниваемых групп равны, т.к. нулевая гипотеза всегда означает `\"никакой разницы нет\"` . Альтернативная гипотеза (H₁): средние пользовательские рейтинги для сравниваемых групп не равны. Для проверки гипотез был применён критерий Стьюдента для двух независимых выборок (ttest_ind). Этот критерий выбран, так как мы сравниваем средние значения двух разных групп данных и предполагаем нормальное распределение пользовательских оценок"
   ]
  },
  {
   "cell_type": "markdown",
   "metadata": {},
   "source": [
    "#### Вывод"
   ]
  },
  {
   "cell_type": "markdown",
   "metadata": {},
   "source": [
    "**Финальный вывод**\n",
    "\n",
    "В рамках проекта для интернет-магазина **\"Стримчик\"** был проведён анализ данных о продажах компьютерных игр с целью выявления закономерностей успешности игр для планирования кампании на 2017 год.\n",
    "\n",
    "---\n",
    "\n",
    "**Основные этапы работы**\n",
    "\n",
    "**Обзор данных:**\n",
    "- Всего записей: **16 715**.\n",
    "- Пропуски обнаружены в столбцах:\n",
    "  - `year_of_release`: **269**,\n",
    "  - `genre`: **2**,\n",
    "  - `critic_score`: **8578** (~51%),\n",
    "  - `user_score`: **6721** (~40%),\n",
    "  - `rating`: **6766** (~40%).\n",
    "\n",
    "**Предобработка данных:**\n",
    "- Удалены строки с пропущенными `year_of_release`, `genre` и `name`.\n",
    "- Пропуски в `critic_score` и `user_score` заменены на **-1** для сохранения объёма данных.\n",
    "- Пропуски в `rating` заменены на категорию **'unknown'**.\n",
    "- Приведены типы данных к корректным форматам (`int`, `str`), названия столбцов приведены к нижнему регистру.\n",
    "- Перед проведением расчётов заглушки **-1** были удалены.\n",
    "\n",
    "**Анализ данных:**\n",
    "- Добавлен столбец **`total_sales`** (сумма продаж по регионам).\n",
    "- Наибольшее количество игр выпущено в период **2005–2011** годов.\n",
    "- Для прогноза выбраны данные за **2012–2016** годы.\n",
    "\n",
    "**Топ-платформы:**\n",
    "- За всё время: **PS2**, **X360**, **PS3**, **Wii**, **DS**.\n",
    "- За последние годы: **PS4**, **XOne**, **3DS**.\n",
    "\n",
    "**Корреляция:**\n",
    "- Связь между `critic_score` и `total_sales`: **0.15** (слабая положительная корреляция).\n",
    "- Связь между `user_score` и `total_sales`: **0.13** (ещё слабее).\n",
    "\n",
    "**Популярные жанры:**\n",
    "- Самые прибыльные: **Action** и **Shooter**.\n",
    "- Наименьшие продажи: **Puzzle** и **Strategy**.\n",
    "- По медианным продажам наиболее успешные жанры: **Shooter**, **Sports**, **Role-Playing**.\n",
    "\n",
    "**Региональные различия:**\n",
    "- В Северной Америке и Европе лидируют жанры **Action** и **Shooter**.\n",
    "- В Японии доминирует **Role-Playing**.\n",
    "- В NA и EU популярны домашние консоли (PS4, XOne), в Японии — портативная **3DS**.\n",
    "\n",
    "**Роль рейтинга ESRB:**\n",
    "- В Северной Америке и Европе лучше продаются игры с рейтингом **M (Mature)**.\n",
    "- В Японии влияние рейтинга практически отсутствует.\n",
    "\n",
    "**Статистические проверки:**\n",
    "- **Xbox One vs PC**: средние пользовательские рейтинги равны (p-value = **0.0565**).\n",
    "- **Action vs Sports**: средние пользовательские рейтинги различаются (p-value = **0.0063**).\n",
    "\n",
    "---\n",
    "\n",
    "**Итог:**\n",
    "- Успех игры зависит от выбора платформы и жанра.\n",
    "- В Северной Америке и Европе важную роль играет рейтинг ESRB.\n",
    "- В Японии основное влияние оказывает жанр игры.\n",
    "- Оценки критиков и пользователей оказывают слабое влияние на продажи.\n",
    "- Для планирования кампаний целесообразно ориентироваться на данные за последние 5 лет.\n"
   ]
  }
 ],
 "metadata": {
  "ExecuteTimeLog": [
   {
    "duration": 53,
    "start_time": "2025-04-23T10:49:30.551Z"
   },
   {
    "duration": 411,
    "start_time": "2025-04-23T10:49:34.196Z"
   },
   {
    "duration": 80,
    "start_time": "2025-04-23T10:49:34.862Z"
   },
   {
    "duration": 16,
    "start_time": "2025-04-23T10:49:41.464Z"
   },
   {
    "duration": 27,
    "start_time": "2025-04-23T10:49:48.911Z"
   },
   {
    "duration": 45,
    "start_time": "2025-04-23T10:51:13.014Z"
   },
   {
    "duration": 16,
    "start_time": "2025-04-23T10:51:13.356Z"
   },
   {
    "duration": 19,
    "start_time": "2025-04-23T10:51:14.020Z"
   },
   {
    "duration": 18,
    "start_time": "2025-04-23T10:52:00.344Z"
   },
   {
    "duration": 10,
    "start_time": "2025-04-23T10:52:14.069Z"
   },
   {
    "duration": 3,
    "start_time": "2025-04-23T10:55:15.913Z"
   },
   {
    "duration": 6,
    "start_time": "2025-04-23T10:55:25.114Z"
   },
   {
    "duration": 3,
    "start_time": "2025-04-23T10:55:39.623Z"
   },
   {
    "duration": 21,
    "start_time": "2025-04-23T10:56:32.511Z"
   },
   {
    "duration": 37,
    "start_time": "2025-04-23T10:58:52.083Z"
   },
   {
    "duration": 5,
    "start_time": "2025-04-23T10:59:05.481Z"
   },
   {
    "duration": 31,
    "start_time": "2025-04-23T11:00:31.813Z"
   },
   {
    "duration": 21,
    "start_time": "2025-04-23T11:00:49.906Z"
   },
   {
    "duration": 19,
    "start_time": "2025-04-23T11:01:04.005Z"
   },
   {
    "duration": 13,
    "start_time": "2025-04-23T11:02:01.395Z"
   },
   {
    "duration": 3,
    "start_time": "2025-04-23T11:04:16.500Z"
   },
   {
    "duration": 9,
    "start_time": "2025-04-23T11:04:23.013Z"
   },
   {
    "duration": 17,
    "start_time": "2025-04-23T11:06:20.999Z"
   },
   {
    "duration": 5,
    "start_time": "2025-04-23T11:06:43.409Z"
   },
   {
    "duration": 5,
    "start_time": "2025-04-23T11:07:18.458Z"
   },
   {
    "duration": 6,
    "start_time": "2025-04-23T11:07:48.870Z"
   },
   {
    "duration": 4,
    "start_time": "2025-04-23T11:13:33.931Z"
   },
   {
    "duration": 4,
    "start_time": "2025-04-23T11:17:13.583Z"
   },
   {
    "duration": 16,
    "start_time": "2025-04-23T11:23:25.095Z"
   },
   {
    "duration": 11,
    "start_time": "2025-04-23T11:23:34.277Z"
   },
   {
    "duration": 11,
    "start_time": "2025-04-23T11:24:15.934Z"
   },
   {
    "duration": 1106,
    "start_time": "2025-04-23T11:25:38.745Z"
   },
   {
    "duration": 15,
    "start_time": "2025-04-23T11:26:20.866Z"
   },
   {
    "duration": 15,
    "start_time": "2025-04-23T11:32:48.570Z"
   },
   {
    "duration": 434,
    "start_time": "2025-04-24T06:31:43.866Z"
   },
   {
    "duration": 56,
    "start_time": "2025-04-24T06:31:44.302Z"
   },
   {
    "duration": 15,
    "start_time": "2025-04-24T06:31:44.360Z"
   },
   {
    "duration": 63,
    "start_time": "2025-04-24T06:31:44.377Z"
   },
   {
    "duration": 17,
    "start_time": "2025-04-24T06:31:44.442Z"
   },
   {
    "duration": 10,
    "start_time": "2025-04-24T06:31:44.461Z"
   },
   {
    "duration": 23,
    "start_time": "2025-04-24T06:31:44.472Z"
   },
   {
    "duration": 9,
    "start_time": "2025-04-24T06:31:44.497Z"
   },
   {
    "duration": 13,
    "start_time": "2025-04-24T06:31:44.507Z"
   },
   {
    "duration": 26,
    "start_time": "2025-04-24T06:31:44.522Z"
   },
   {
    "duration": 74,
    "start_time": "2025-04-24T06:36:00.339Z"
   },
   {
    "duration": 9,
    "start_time": "2025-04-24T06:36:10.775Z"
   },
   {
    "duration": 19,
    "start_time": "2025-04-24T06:36:22.782Z"
   },
   {
    "duration": 19,
    "start_time": "2025-04-24T06:36:28.198Z"
   },
   {
    "duration": 8,
    "start_time": "2025-04-24T06:36:52.567Z"
   },
   {
    "duration": 7,
    "start_time": "2025-04-24T06:37:02.149Z"
   },
   {
    "duration": 5,
    "start_time": "2025-04-24T06:41:00.456Z"
   },
   {
    "duration": 25,
    "start_time": "2025-04-24T06:41:06.755Z"
   },
   {
    "duration": 7,
    "start_time": "2025-04-24T06:41:58.845Z"
   },
   {
    "duration": 7,
    "start_time": "2025-04-24T06:42:19.079Z"
   },
   {
    "duration": 8,
    "start_time": "2025-04-24T06:42:30.669Z"
   },
   {
    "duration": 9,
    "start_time": "2025-04-24T06:42:34.716Z"
   },
   {
    "duration": 7,
    "start_time": "2025-04-24T06:42:39.594Z"
   },
   {
    "duration": 8,
    "start_time": "2025-04-24T06:43:18.537Z"
   },
   {
    "duration": 7,
    "start_time": "2025-04-24T06:45:08.430Z"
   },
   {
    "duration": 7,
    "start_time": "2025-04-24T06:45:13.698Z"
   },
   {
    "duration": 8,
    "start_time": "2025-04-24T06:46:08.030Z"
   },
   {
    "duration": 6,
    "start_time": "2025-04-24T06:46:13.118Z"
   },
   {
    "duration": 7,
    "start_time": "2025-04-24T06:50:49.693Z"
   },
   {
    "duration": 19,
    "start_time": "2025-04-24T06:52:15.624Z"
   },
   {
    "duration": 9,
    "start_time": "2025-04-24T06:54:37.936Z"
   },
   {
    "duration": 8,
    "start_time": "2025-04-24T06:54:55.362Z"
   },
   {
    "duration": 9,
    "start_time": "2025-04-24T06:55:05.463Z"
   },
   {
    "duration": 6,
    "start_time": "2025-04-24T06:59:07.843Z"
   },
   {
    "duration": 8,
    "start_time": "2025-04-24T06:59:24.778Z"
   },
   {
    "duration": 623,
    "start_time": "2025-04-24T06:59:54.631Z"
   },
   {
    "duration": 3,
    "start_time": "2025-04-24T07:00:36.783Z"
   },
   {
    "duration": 20,
    "start_time": "2025-04-24T07:01:23.399Z"
   },
   {
    "duration": 3,
    "start_time": "2025-04-24T07:01:33.214Z"
   },
   {
    "duration": 48,
    "start_time": "2025-04-24T07:01:33.657Z"
   },
   {
    "duration": 17,
    "start_time": "2025-04-24T07:01:33.872Z"
   },
   {
    "duration": 20,
    "start_time": "2025-04-24T07:01:34.130Z"
   },
   {
    "duration": 18,
    "start_time": "2025-04-24T07:01:34.574Z"
   },
   {
    "duration": 10,
    "start_time": "2025-04-24T07:01:34.805Z"
   },
   {
    "duration": 3,
    "start_time": "2025-04-24T07:01:35.610Z"
   },
   {
    "duration": 5,
    "start_time": "2025-04-24T07:01:36.122Z"
   },
   {
    "duration": 6,
    "start_time": "2025-04-24T07:01:36.346Z"
   },
   {
    "duration": 14,
    "start_time": "2025-04-24T07:01:37.591Z"
   },
   {
    "duration": 22,
    "start_time": "2025-04-24T07:01:37.737Z"
   },
   {
    "duration": 7,
    "start_time": "2025-04-24T07:01:38.891Z"
   },
   {
    "duration": 10,
    "start_time": "2025-04-24T07:01:41.554Z"
   },
   {
    "duration": 10,
    "start_time": "2025-04-24T07:01:43.442Z"
   },
   {
    "duration": 267,
    "start_time": "2025-04-24T07:02:02.983Z"
   },
   {
    "duration": 2861,
    "start_time": "2025-04-24T07:06:35.902Z"
   },
   {
    "duration": 2800,
    "start_time": "2025-04-24T07:06:56.604Z"
   },
   {
    "duration": 549,
    "start_time": "2025-04-24T07:08:19.848Z"
   },
   {
    "duration": 399,
    "start_time": "2025-04-24T07:08:44.062Z"
   },
   {
    "duration": 2,
    "start_time": "2025-04-24T07:09:07.654Z"
   },
   {
    "duration": 635,
    "start_time": "2025-04-24T07:09:11.809Z"
   },
   {
    "duration": 421,
    "start_time": "2025-04-24T07:10:34.409Z"
   },
   {
    "duration": 430,
    "start_time": "2025-04-24T07:11:06.988Z"
   },
   {
    "duration": 433,
    "start_time": "2025-04-24T07:11:21.646Z"
   },
   {
    "duration": 7,
    "start_time": "2025-04-24T07:17:24.688Z"
   },
   {
    "duration": 27,
    "start_time": "2025-04-24T07:17:35.645Z"
   },
   {
    "duration": 6,
    "start_time": "2025-04-24T07:17:46.454Z"
   },
   {
    "duration": 450,
    "start_time": "2025-04-24T07:19:01.254Z"
   },
   {
    "duration": 884,
    "start_time": "2025-04-24T13:37:43.558Z"
   },
   {
    "duration": 60,
    "start_time": "2025-04-24T13:37:44.444Z"
   },
   {
    "duration": 18,
    "start_time": "2025-04-24T13:37:44.506Z"
   },
   {
    "duration": 25,
    "start_time": "2025-04-24T13:37:44.526Z"
   },
   {
    "duration": 17,
    "start_time": "2025-04-24T13:37:44.553Z"
   },
   {
    "duration": 10,
    "start_time": "2025-04-24T13:37:44.572Z"
   },
   {
    "duration": 6,
    "start_time": "2025-04-24T13:37:44.584Z"
   },
   {
    "duration": 5,
    "start_time": "2025-04-24T13:37:44.592Z"
   },
   {
    "duration": 8,
    "start_time": "2025-04-24T13:37:44.599Z"
   },
   {
    "duration": 17,
    "start_time": "2025-04-24T13:37:44.637Z"
   },
   {
    "duration": 28,
    "start_time": "2025-04-24T13:37:44.657Z"
   },
   {
    "duration": 10,
    "start_time": "2025-04-24T13:37:44.688Z"
   },
   {
    "duration": 38,
    "start_time": "2025-04-24T13:37:44.701Z"
   },
   {
    "duration": 474,
    "start_time": "2025-04-24T13:37:44.743Z"
   },
   {
    "duration": 19,
    "start_time": "2025-04-24T13:37:45.219Z"
   },
   {
    "duration": 266,
    "start_time": "2025-04-24T13:37:45.239Z"
   },
   {
    "duration": 8,
    "start_time": "2025-04-24T13:42:52.103Z"
   },
   {
    "duration": 79,
    "start_time": "2025-04-24T13:43:40.564Z"
   },
   {
    "duration": 9,
    "start_time": "2025-04-24T13:43:48.453Z"
   },
   {
    "duration": 114,
    "start_time": "2025-04-24T13:45:56.468Z"
   },
   {
    "duration": 185,
    "start_time": "2025-04-24T13:46:49.504Z"
   },
   {
    "duration": 114,
    "start_time": "2025-04-24T13:47:48.886Z"
   },
   {
    "duration": 118,
    "start_time": "2025-04-24T13:50:54.336Z"
   },
   {
    "duration": 127,
    "start_time": "2025-04-24T13:51:11.866Z"
   },
   {
    "duration": 248,
    "start_time": "2025-04-24T13:52:39.052Z"
   },
   {
    "duration": 189,
    "start_time": "2025-04-24T13:53:53.567Z"
   },
   {
    "duration": 191,
    "start_time": "2025-04-24T13:59:31.085Z"
   },
   {
    "duration": 5,
    "start_time": "2025-04-24T14:05:31.361Z"
   },
   {
    "duration": 17,
    "start_time": "2025-04-24T14:05:41.776Z"
   },
   {
    "duration": 4,
    "start_time": "2025-04-24T14:05:49.634Z"
   },
   {
    "duration": 123,
    "start_time": "2025-04-24T14:08:17.717Z"
   },
   {
    "duration": 133,
    "start_time": "2025-04-24T14:09:38.551Z"
   },
   {
    "duration": 143,
    "start_time": "2025-04-24T14:09:58.987Z"
   },
   {
    "duration": 1645,
    "start_time": "2025-04-24T14:11:03.918Z"
   },
   {
    "duration": 125,
    "start_time": "2025-04-24T14:11:12.801Z"
   },
   {
    "duration": 33,
    "start_time": "2025-04-24T14:13:05.402Z"
   },
   {
    "duration": 880,
    "start_time": "2025-04-24T15:26:06.574Z"
   },
   {
    "duration": 61,
    "start_time": "2025-04-24T15:26:07.457Z"
   },
   {
    "duration": 17,
    "start_time": "2025-04-24T15:26:07.520Z"
   },
   {
    "duration": 25,
    "start_time": "2025-04-24T15:26:07.538Z"
   },
   {
    "duration": 47,
    "start_time": "2025-04-24T15:26:07.566Z"
   },
   {
    "duration": 10,
    "start_time": "2025-04-24T15:26:07.615Z"
   },
   {
    "duration": 23,
    "start_time": "2025-04-24T15:26:07.626Z"
   },
   {
    "duration": 22,
    "start_time": "2025-04-24T15:26:07.651Z"
   },
   {
    "duration": 37,
    "start_time": "2025-04-24T15:26:07.675Z"
   },
   {
    "duration": 54,
    "start_time": "2025-04-24T15:26:07.714Z"
   },
   {
    "duration": 19,
    "start_time": "2025-04-24T15:26:07.769Z"
   },
   {
    "duration": 10,
    "start_time": "2025-04-24T15:26:07.790Z"
   },
   {
    "duration": 12,
    "start_time": "2025-04-24T15:26:07.802Z"
   },
   {
    "duration": 452,
    "start_time": "2025-04-24T15:26:07.818Z"
   },
   {
    "duration": 5,
    "start_time": "2025-04-24T15:26:08.271Z"
   },
   {
    "duration": 277,
    "start_time": "2025-04-24T15:26:08.278Z"
   },
   {
    "duration": 211,
    "start_time": "2025-04-24T15:26:08.557Z"
   },
   {
    "duration": 212,
    "start_time": "2025-04-24T15:26:08.770Z"
   },
   {
    "duration": 201,
    "start_time": "2025-04-24T15:26:08.984Z"
   },
   {
    "duration": 15,
    "start_time": "2025-04-24T15:27:48.085Z"
   },
   {
    "duration": 18,
    "start_time": "2025-04-24T15:36:33.180Z"
   },
   {
    "duration": 703,
    "start_time": "2025-04-24T15:36:42.668Z"
   },
   {
    "duration": 47,
    "start_time": "2025-04-24T15:36:43.373Z"
   },
   {
    "duration": 16,
    "start_time": "2025-04-24T15:36:43.422Z"
   },
   {
    "duration": 26,
    "start_time": "2025-04-24T15:36:43.440Z"
   },
   {
    "duration": 17,
    "start_time": "2025-04-24T15:36:43.468Z"
   },
   {
    "duration": 22,
    "start_time": "2025-04-24T15:36:43.486Z"
   },
   {
    "duration": 3,
    "start_time": "2025-04-24T15:36:43.510Z"
   },
   {
    "duration": 7,
    "start_time": "2025-04-24T15:36:43.515Z"
   },
   {
    "duration": 8,
    "start_time": "2025-04-24T15:36:43.523Z"
   },
   {
    "duration": 19,
    "start_time": "2025-04-24T15:36:43.532Z"
   },
   {
    "duration": 54,
    "start_time": "2025-04-24T15:36:43.552Z"
   },
   {
    "duration": 7,
    "start_time": "2025-04-24T15:36:43.608Z"
   },
   {
    "duration": 40,
    "start_time": "2025-04-24T15:36:43.617Z"
   },
   {
    "duration": 446,
    "start_time": "2025-04-24T15:36:43.659Z"
   },
   {
    "duration": 6,
    "start_time": "2025-04-24T15:36:44.108Z"
   },
   {
    "duration": 277,
    "start_time": "2025-04-24T15:36:44.116Z"
   },
   {
    "duration": 215,
    "start_time": "2025-04-24T15:36:44.395Z"
   },
   {
    "duration": 213,
    "start_time": "2025-04-24T15:36:44.612Z"
   },
   {
    "duration": 171,
    "start_time": "2025-04-24T15:36:44.827Z"
   },
   {
    "duration": 148,
    "start_time": "2025-04-24T15:38:43.751Z"
   },
   {
    "duration": 465,
    "start_time": "2025-04-24T15:38:55.859Z"
   },
   {
    "duration": 18,
    "start_time": "2025-04-24T15:39:31.227Z"
   },
   {
    "duration": 16,
    "start_time": "2025-04-24T15:39:41.628Z"
   },
   {
    "duration": 13,
    "start_time": "2025-04-24T15:39:48.759Z"
   },
   {
    "duration": 145,
    "start_time": "2025-04-24T15:40:43.579Z"
   },
   {
    "duration": 152,
    "start_time": "2025-04-24T15:41:06.731Z"
   },
   {
    "duration": 147,
    "start_time": "2025-04-24T15:41:17.899Z"
   },
   {
    "duration": 149,
    "start_time": "2025-04-24T15:42:34.179Z"
   },
   {
    "duration": 156,
    "start_time": "2025-04-24T15:42:54.118Z"
   },
   {
    "duration": 167,
    "start_time": "2025-04-24T15:43:13.767Z"
   },
   {
    "duration": 146,
    "start_time": "2025-04-24T15:43:41.118Z"
   },
   {
    "duration": 219,
    "start_time": "2025-04-24T15:43:46.931Z"
   },
   {
    "duration": 66,
    "start_time": "2025-04-24T15:44:50.099Z"
   },
   {
    "duration": 395,
    "start_time": "2025-04-24T15:44:56.699Z"
   },
   {
    "duration": 399,
    "start_time": "2025-04-24T15:45:39.619Z"
   },
   {
    "duration": 416,
    "start_time": "2025-04-24T15:46:48.199Z"
   },
   {
    "duration": 398,
    "start_time": "2025-04-24T15:48:26.119Z"
   },
   {
    "duration": 139,
    "start_time": "2025-04-24T15:48:58.039Z"
   },
   {
    "duration": 144,
    "start_time": "2025-04-24T15:51:00.550Z"
   },
   {
    "duration": 7754,
    "start_time": "2025-04-24T16:27:02.554Z"
   },
   {
    "duration": 8050,
    "start_time": "2025-04-24T16:27:38.429Z"
   },
   {
    "duration": 51,
    "start_time": "2025-04-24T19:02:35.577Z"
   },
   {
    "duration": 739,
    "start_time": "2025-04-24T19:02:40.991Z"
   },
   {
    "duration": 59,
    "start_time": "2025-04-24T19:02:41.732Z"
   },
   {
    "duration": 16,
    "start_time": "2025-04-24T19:02:41.793Z"
   },
   {
    "duration": 29,
    "start_time": "2025-04-24T19:02:41.810Z"
   },
   {
    "duration": 15,
    "start_time": "2025-04-24T19:02:41.841Z"
   },
   {
    "duration": 15,
    "start_time": "2025-04-24T19:02:41.857Z"
   },
   {
    "duration": 18,
    "start_time": "2025-04-24T19:02:41.874Z"
   },
   {
    "duration": 27,
    "start_time": "2025-04-24T19:02:41.894Z"
   },
   {
    "duration": 25,
    "start_time": "2025-04-24T19:02:41.923Z"
   },
   {
    "duration": 23,
    "start_time": "2025-04-24T19:02:41.950Z"
   },
   {
    "duration": 55,
    "start_time": "2025-04-24T19:02:41.974Z"
   },
   {
    "duration": 6,
    "start_time": "2025-04-24T19:02:42.031Z"
   },
   {
    "duration": 29,
    "start_time": "2025-04-24T19:02:42.038Z"
   },
   {
    "duration": 401,
    "start_time": "2025-04-24T19:02:42.069Z"
   },
   {
    "duration": 6,
    "start_time": "2025-04-24T19:02:42.472Z"
   },
   {
    "duration": 271,
    "start_time": "2025-04-24T19:02:42.479Z"
   },
   {
    "duration": 200,
    "start_time": "2025-04-24T19:02:42.752Z"
   },
   {
    "duration": 214,
    "start_time": "2025-04-24T19:02:42.954Z"
   },
   {
    "duration": 130,
    "start_time": "2025-04-24T19:02:43.169Z"
   },
   {
    "duration": 6816,
    "start_time": "2025-04-24T19:02:43.301Z"
   },
   {
    "duration": 662,
    "start_time": "2025-04-24T19:06:11.122Z"
   },
   {
    "duration": 45,
    "start_time": "2025-04-24T19:06:11.786Z"
   },
   {
    "duration": 15,
    "start_time": "2025-04-24T19:06:11.832Z"
   },
   {
    "duration": 33,
    "start_time": "2025-04-24T19:06:11.848Z"
   },
   {
    "duration": 16,
    "start_time": "2025-04-24T19:06:11.883Z"
   },
   {
    "duration": 30,
    "start_time": "2025-04-24T19:06:11.900Z"
   },
   {
    "duration": 4,
    "start_time": "2025-04-24T19:06:11.931Z"
   },
   {
    "duration": 12,
    "start_time": "2025-04-24T19:06:11.936Z"
   },
   {
    "duration": 39,
    "start_time": "2025-04-24T19:06:11.949Z"
   },
   {
    "duration": 32,
    "start_time": "2025-04-24T19:06:11.989Z"
   },
   {
    "duration": 17,
    "start_time": "2025-04-24T19:06:12.022Z"
   },
   {
    "duration": 6,
    "start_time": "2025-04-24T19:06:12.041Z"
   },
   {
    "duration": 16,
    "start_time": "2025-04-24T19:06:12.048Z"
   },
   {
    "duration": 418,
    "start_time": "2025-04-24T19:06:12.067Z"
   },
   {
    "duration": 5,
    "start_time": "2025-04-24T19:06:12.487Z"
   },
   {
    "duration": 257,
    "start_time": "2025-04-24T19:06:12.494Z"
   },
   {
    "duration": 192,
    "start_time": "2025-04-24T19:06:12.752Z"
   },
   {
    "duration": 207,
    "start_time": "2025-04-24T19:06:12.946Z"
   },
   {
    "duration": 130,
    "start_time": "2025-04-24T19:06:13.154Z"
   },
   {
    "duration": 6917,
    "start_time": "2025-04-24T19:06:13.286Z"
   },
   {
    "duration": 434,
    "start_time": "2025-04-24T19:06:46.040Z"
   },
   {
    "duration": 315,
    "start_time": "2025-04-24T19:06:57.997Z"
   },
   {
    "duration": 113,
    "start_time": "2025-04-24T19:09:00.187Z"
   },
   {
    "duration": 197,
    "start_time": "2025-04-24T19:10:10.851Z"
   },
   {
    "duration": 178,
    "start_time": "2025-04-24T19:11:24.357Z"
   },
   {
    "duration": 185,
    "start_time": "2025-04-24T19:11:58.952Z"
   },
   {
    "duration": 115,
    "start_time": "2025-04-24T19:20:48.111Z"
   },
   {
    "duration": 108,
    "start_time": "2025-04-24T19:20:57.709Z"
   },
   {
    "duration": 158,
    "start_time": "2025-04-24T19:21:12.684Z"
   },
   {
    "duration": 190,
    "start_time": "2025-04-24T19:22:22.090Z"
   },
   {
    "duration": 185,
    "start_time": "2025-04-24T19:22:36.457Z"
   },
   {
    "duration": 186,
    "start_time": "2025-04-24T19:34:41.115Z"
   },
   {
    "duration": 191,
    "start_time": "2025-04-24T19:35:12.194Z"
   },
   {
    "duration": 9,
    "start_time": "2025-04-24T19:36:29.657Z"
   },
   {
    "duration": 13,
    "start_time": "2025-04-24T19:36:38.428Z"
   },
   {
    "duration": 11,
    "start_time": "2025-04-24T19:36:53.400Z"
   },
   {
    "duration": 8,
    "start_time": "2025-04-24T19:37:22.600Z"
   },
   {
    "duration": 6,
    "start_time": "2025-04-24T19:40:29.818Z"
   },
   {
    "duration": 8,
    "start_time": "2025-04-24T19:42:01.355Z"
   },
   {
    "duration": 15,
    "start_time": "2025-04-24T19:43:41.251Z"
   },
   {
    "duration": 239,
    "start_time": "2025-04-24T19:44:09.976Z"
   },
   {
    "duration": 271,
    "start_time": "2025-04-24T19:45:11.351Z"
   },
   {
    "duration": 4,
    "start_time": "2025-04-24T19:49:56.653Z"
   },
   {
    "duration": 15,
    "start_time": "2025-04-24T19:50:12.765Z"
   },
   {
    "duration": 278,
    "start_time": "2025-04-24T19:51:55.715Z"
   },
   {
    "duration": 268,
    "start_time": "2025-04-24T19:53:08.506Z"
   },
   {
    "duration": 880,
    "start_time": "2025-04-26T08:43:17.550Z"
   },
   {
    "duration": 59,
    "start_time": "2025-04-26T08:43:18.433Z"
   },
   {
    "duration": 17,
    "start_time": "2025-04-26T08:43:18.495Z"
   },
   {
    "duration": 29,
    "start_time": "2025-04-26T08:43:18.514Z"
   },
   {
    "duration": 25,
    "start_time": "2025-04-26T08:43:18.544Z"
   },
   {
    "duration": 10,
    "start_time": "2025-04-26T08:43:18.571Z"
   },
   {
    "duration": 6,
    "start_time": "2025-04-26T08:43:18.583Z"
   },
   {
    "duration": 8,
    "start_time": "2025-04-26T08:43:18.591Z"
   },
   {
    "duration": 23,
    "start_time": "2025-04-26T08:43:18.601Z"
   },
   {
    "duration": 17,
    "start_time": "2025-04-26T08:43:18.627Z"
   },
   {
    "duration": 30,
    "start_time": "2025-04-26T08:43:18.646Z"
   },
   {
    "duration": 7,
    "start_time": "2025-04-26T08:43:18.677Z"
   },
   {
    "duration": 13,
    "start_time": "2025-04-26T08:43:18.687Z"
   },
   {
    "duration": 472,
    "start_time": "2025-04-26T08:43:18.701Z"
   },
   {
    "duration": 6,
    "start_time": "2025-04-26T08:43:19.175Z"
   },
   {
    "duration": 286,
    "start_time": "2025-04-26T08:43:19.183Z"
   },
   {
    "duration": 282,
    "start_time": "2025-04-26T08:43:19.471Z"
   },
   {
    "duration": 161,
    "start_time": "2025-04-26T08:43:19.755Z"
   },
   {
    "duration": 150,
    "start_time": "2025-04-26T08:43:19.917Z"
   },
   {
    "duration": 224,
    "start_time": "2025-04-26T08:43:20.069Z"
   },
   {
    "duration": 218,
    "start_time": "2025-04-26T08:43:20.295Z"
   },
   {
    "duration": 313,
    "start_time": "2025-04-26T08:43:20.515Z"
   },
   {
    "duration": 344,
    "start_time": "2025-04-26T08:43:20.829Z"
   },
   {
    "duration": 72800,
    "start_time": "2025-04-26T08:46:33.195Z"
   },
   {
    "duration": 128,
    "start_time": "2025-04-26T08:53:22.898Z"
   },
   {
    "duration": 131,
    "start_time": "2025-04-26T08:53:48.551Z"
   },
   {
    "duration": 122,
    "start_time": "2025-04-26T08:54:59.199Z"
   },
   {
    "duration": 138,
    "start_time": "2025-04-26T08:55:12.597Z"
   },
   {
    "duration": 220,
    "start_time": "2025-04-26T08:58:46.560Z"
   },
   {
    "duration": 347,
    "start_time": "2025-04-26T08:58:59.543Z"
   },
   {
    "duration": 270,
    "start_time": "2025-04-26T08:59:09.494Z"
   },
   {
    "duration": 253,
    "start_time": "2025-04-26T08:59:18.608Z"
   },
   {
    "duration": 428,
    "start_time": "2025-04-26T09:00:09.203Z"
   },
   {
    "duration": 19,
    "start_time": "2025-04-26T09:13:23.063Z"
   },
   {
    "duration": 471,
    "start_time": "2025-04-26T09:13:27.623Z"
   },
   {
    "duration": 39,
    "start_time": "2025-04-26T09:16:32.901Z"
   },
   {
    "duration": 14,
    "start_time": "2025-04-26T09:18:36.067Z"
   },
   {
    "duration": 13,
    "start_time": "2025-04-26T09:19:52.876Z"
   },
   {
    "duration": 1021,
    "start_time": "2025-04-26T09:21:41.402Z"
   },
   {
    "duration": 10,
    "start_time": "2025-04-26T09:22:23.261Z"
   },
   {
    "duration": 1186,
    "start_time": "2025-04-26T09:22:58.922Z"
   },
   {
    "duration": 15,
    "start_time": "2025-04-26T09:23:15.048Z"
   },
   {
    "duration": 9,
    "start_time": "2025-04-26T09:23:45.745Z"
   },
   {
    "duration": 5,
    "start_time": "2025-04-26T09:40:10.577Z"
   },
   {
    "duration": 10,
    "start_time": "2025-04-26T09:40:20.502Z"
   },
   {
    "duration": 8,
    "start_time": "2025-04-26T09:40:35.097Z"
   },
   {
    "duration": 13,
    "start_time": "2025-04-26T09:49:48.617Z"
   },
   {
    "duration": 155,
    "start_time": "2025-04-26T10:22:20.895Z"
   },
   {
    "duration": 154,
    "start_time": "2025-04-26T10:22:25.391Z"
   },
   {
    "duration": 140,
    "start_time": "2025-04-26T10:22:35.388Z"
   },
   {
    "duration": 1161,
    "start_time": "2025-04-26T10:22:42.702Z"
   },
   {
    "duration": 46,
    "start_time": "2025-04-26T10:22:43.865Z"
   },
   {
    "duration": 18,
    "start_time": "2025-04-26T10:22:43.913Z"
   },
   {
    "duration": 23,
    "start_time": "2025-04-26T10:22:43.933Z"
   },
   {
    "duration": 17,
    "start_time": "2025-04-26T10:22:43.957Z"
   },
   {
    "duration": 10,
    "start_time": "2025-04-26T10:22:43.975Z"
   },
   {
    "duration": 15,
    "start_time": "2025-04-26T10:22:43.987Z"
   },
   {
    "duration": 22,
    "start_time": "2025-04-26T10:22:44.004Z"
   },
   {
    "duration": 13,
    "start_time": "2025-04-26T10:22:44.028Z"
   },
   {
    "duration": 43,
    "start_time": "2025-04-26T10:22:44.044Z"
   },
   {
    "duration": 19,
    "start_time": "2025-04-26T10:22:44.089Z"
   },
   {
    "duration": 6,
    "start_time": "2025-04-26T10:22:44.109Z"
   },
   {
    "duration": 9,
    "start_time": "2025-04-26T10:22:44.117Z"
   },
   {
    "duration": 515,
    "start_time": "2025-04-26T10:22:44.128Z"
   },
   {
    "duration": 7,
    "start_time": "2025-04-26T10:22:44.660Z"
   },
   {
    "duration": 285,
    "start_time": "2025-04-26T10:22:44.668Z"
   },
   {
    "duration": 211,
    "start_time": "2025-04-26T10:22:44.955Z"
   },
   {
    "duration": 167,
    "start_time": "2025-04-26T10:22:45.168Z"
   },
   {
    "duration": 155,
    "start_time": "2025-04-26T10:22:45.337Z"
   },
   {
    "duration": 221,
    "start_time": "2025-04-26T10:22:45.494Z"
   },
   {
    "duration": 207,
    "start_time": "2025-04-26T10:22:45.716Z"
   },
   {
    "duration": 403,
    "start_time": "2025-04-26T10:22:45.925Z"
   },
   {
    "duration": 313,
    "start_time": "2025-04-26T10:22:46.330Z"
   },
   {
    "duration": 420,
    "start_time": "2025-04-26T10:22:46.645Z"
   },
   {
    "duration": 5,
    "start_time": "2025-04-26T10:22:47.067Z"
   },
   {
    "duration": 8,
    "start_time": "2025-04-26T10:22:47.073Z"
   },
   {
    "duration": 11,
    "start_time": "2025-04-26T10:22:47.082Z"
   },
   {
    "duration": 5,
    "start_time": "2025-04-26T10:26:52.842Z"
   },
   {
    "duration": 8,
    "start_time": "2025-04-26T10:31:12.946Z"
   },
   {
    "duration": 1403,
    "start_time": "2025-04-26T12:17:42.003Z"
   },
   {
    "duration": 59,
    "start_time": "2025-04-26T12:17:43.408Z"
   },
   {
    "duration": 17,
    "start_time": "2025-04-26T12:17:43.469Z"
   },
   {
    "duration": 23,
    "start_time": "2025-04-26T12:17:43.489Z"
   },
   {
    "duration": 17,
    "start_time": "2025-04-26T12:17:43.514Z"
   },
   {
    "duration": 11,
    "start_time": "2025-04-26T12:17:43.533Z"
   },
   {
    "duration": 4,
    "start_time": "2025-04-26T12:17:43.546Z"
   },
   {
    "duration": 8,
    "start_time": "2025-04-26T12:17:43.552Z"
   },
   {
    "duration": 12,
    "start_time": "2025-04-26T12:17:43.562Z"
   },
   {
    "duration": 44,
    "start_time": "2025-04-26T12:17:43.577Z"
   },
   {
    "duration": 6,
    "start_time": "2025-04-26T12:17:43.623Z"
   },
   {
    "duration": 13,
    "start_time": "2025-04-26T12:17:43.631Z"
   },
   {
    "duration": 9,
    "start_time": "2025-04-26T12:17:43.647Z"
   },
   {
    "duration": 485,
    "start_time": "2025-04-26T12:17:43.657Z"
   },
   {
    "duration": 6,
    "start_time": "2025-04-26T12:17:44.143Z"
   },
   {
    "duration": 274,
    "start_time": "2025-04-26T12:17:44.151Z"
   },
   {
    "duration": 210,
    "start_time": "2025-04-26T12:17:44.427Z"
   },
   {
    "duration": 177,
    "start_time": "2025-04-26T12:17:44.640Z"
   },
   {
    "duration": 152,
    "start_time": "2025-04-26T12:17:44.818Z"
   },
   {
    "duration": 217,
    "start_time": "2025-04-26T12:17:44.972Z"
   },
   {
    "duration": 227,
    "start_time": "2025-04-26T12:17:45.191Z"
   },
   {
    "duration": 401,
    "start_time": "2025-04-26T12:17:45.420Z"
   },
   {
    "duration": 312,
    "start_time": "2025-04-26T12:17:45.823Z"
   },
   {
    "duration": 408,
    "start_time": "2025-04-26T12:17:46.137Z"
   },
   {
    "duration": 5,
    "start_time": "2025-04-26T12:17:46.547Z"
   },
   {
    "duration": 122,
    "start_time": "2025-04-26T12:17:46.553Z"
   },
   {
    "duration": 15,
    "start_time": "2025-04-26T12:17:46.677Z"
   },
   {
    "duration": 53,
    "start_time": "2025-04-26T12:36:52.603Z"
   },
   {
    "duration": 1369,
    "start_time": "2025-04-26T12:36:59.282Z"
   },
   {
    "duration": 47,
    "start_time": "2025-04-26T12:37:00.654Z"
   },
   {
    "duration": 17,
    "start_time": "2025-04-26T12:37:00.703Z"
   },
   {
    "duration": 53,
    "start_time": "2025-04-26T12:37:00.722Z"
   },
   {
    "duration": 28,
    "start_time": "2025-04-26T12:37:00.777Z"
   },
   {
    "duration": 17,
    "start_time": "2025-04-26T12:37:00.807Z"
   },
   {
    "duration": 37,
    "start_time": "2025-04-26T12:37:00.826Z"
   },
   {
    "duration": 6,
    "start_time": "2025-04-26T12:37:00.865Z"
   },
   {
    "duration": 9,
    "start_time": "2025-04-26T12:37:00.873Z"
   },
   {
    "duration": 21,
    "start_time": "2025-04-26T12:37:00.885Z"
   },
   {
    "duration": 36,
    "start_time": "2025-04-26T12:37:00.908Z"
   },
   {
    "duration": 9,
    "start_time": "2025-04-26T12:37:00.950Z"
   },
   {
    "duration": 95,
    "start_time": "2025-04-26T12:37:00.961Z"
   },
   {
    "duration": 465,
    "start_time": "2025-04-26T12:37:01.059Z"
   },
   {
    "duration": 19,
    "start_time": "2025-04-26T12:37:01.526Z"
   },
   {
    "duration": 290,
    "start_time": "2025-04-26T12:37:01.547Z"
   },
   {
    "duration": 210,
    "start_time": "2025-04-26T12:37:01.843Z"
   },
   {
    "duration": 172,
    "start_time": "2025-04-26T12:37:02.055Z"
   },
   {
    "duration": 157,
    "start_time": "2025-04-26T12:37:02.229Z"
   },
   {
    "duration": 233,
    "start_time": "2025-04-26T12:37:02.387Z"
   },
   {
    "duration": 226,
    "start_time": "2025-04-26T12:37:02.622Z"
   },
   {
    "duration": 415,
    "start_time": "2025-04-26T12:37:02.851Z"
   },
   {
    "duration": 330,
    "start_time": "2025-04-26T12:37:03.268Z"
   },
   {
    "duration": 431,
    "start_time": "2025-04-26T12:37:03.600Z"
   },
   {
    "duration": 16,
    "start_time": "2025-04-26T12:37:04.037Z"
   },
   {
    "duration": 9,
    "start_time": "2025-04-26T12:37:04.055Z"
   },
   {
    "duration": 38,
    "start_time": "2025-04-26T12:37:04.066Z"
   },
   {
    "duration": 229,
    "start_time": "2025-04-26T12:42:06.535Z"
   },
   {
    "duration": 27,
    "start_time": "2025-04-26T12:42:28.757Z"
   },
   {
    "duration": 27,
    "start_time": "2025-04-26T12:42:58.430Z"
   },
   {
    "duration": 21,
    "start_time": "2025-04-26T12:43:03.654Z"
   },
   {
    "duration": 1366,
    "start_time": "2025-04-26T12:43:11.992Z"
   },
   {
    "duration": 74,
    "start_time": "2025-04-26T12:43:13.361Z"
   },
   {
    "duration": 34,
    "start_time": "2025-04-26T12:43:13.454Z"
   },
   {
    "duration": 33,
    "start_time": "2025-04-26T12:43:13.493Z"
   },
   {
    "duration": 40,
    "start_time": "2025-04-26T12:43:13.529Z"
   },
   {
    "duration": 19,
    "start_time": "2025-04-26T12:43:13.572Z"
   },
   {
    "duration": 31,
    "start_time": "2025-04-26T12:43:13.594Z"
   },
   {
    "duration": 24,
    "start_time": "2025-04-26T12:43:13.643Z"
   },
   {
    "duration": 19,
    "start_time": "2025-04-26T12:43:13.680Z"
   },
   {
    "duration": 28,
    "start_time": "2025-04-26T12:43:13.702Z"
   },
   {
    "duration": 15,
    "start_time": "2025-04-26T12:43:13.733Z"
   },
   {
    "duration": 20,
    "start_time": "2025-04-26T12:43:13.754Z"
   },
   {
    "duration": 67,
    "start_time": "2025-04-26T12:43:13.778Z"
   },
   {
    "duration": 717,
    "start_time": "2025-04-26T12:43:13.855Z"
   },
   {
    "duration": 7,
    "start_time": "2025-04-26T12:43:14.574Z"
   },
   {
    "duration": 373,
    "start_time": "2025-04-26T12:43:14.583Z"
   },
   {
    "duration": 236,
    "start_time": "2025-04-26T12:43:14.959Z"
   },
   {
    "duration": 197,
    "start_time": "2025-04-26T12:43:15.198Z"
   },
   {
    "duration": 224,
    "start_time": "2025-04-26T12:43:15.397Z"
   },
   {
    "duration": 250,
    "start_time": "2025-04-26T12:43:15.623Z"
   },
   {
    "duration": 251,
    "start_time": "2025-04-26T12:43:15.876Z"
   },
   {
    "duration": 459,
    "start_time": "2025-04-26T12:43:16.129Z"
   },
   {
    "duration": 402,
    "start_time": "2025-04-26T12:43:16.590Z"
   },
   {
    "duration": 514,
    "start_time": "2025-04-26T12:43:16.994Z"
   },
   {
    "duration": 5,
    "start_time": "2025-04-26T12:43:17.510Z"
   },
   {
    "duration": 31,
    "start_time": "2025-04-26T12:43:17.517Z"
   },
   {
    "duration": 21,
    "start_time": "2025-04-26T12:43:17.552Z"
   },
   {
    "duration": 23,
    "start_time": "2025-04-26T12:44:19.351Z"
   },
   {
    "duration": 24,
    "start_time": "2025-04-26T12:44:39.229Z"
   },
   {
    "duration": 1176,
    "start_time": "2025-04-26T12:44:45.387Z"
   },
   {
    "duration": 47,
    "start_time": "2025-04-26T12:44:46.565Z"
   },
   {
    "duration": 18,
    "start_time": "2025-04-26T12:44:46.614Z"
   },
   {
    "duration": 31,
    "start_time": "2025-04-26T12:44:46.640Z"
   },
   {
    "duration": 18,
    "start_time": "2025-04-26T12:44:46.672Z"
   },
   {
    "duration": 12,
    "start_time": "2025-04-26T12:44:46.692Z"
   },
   {
    "duration": 48,
    "start_time": "2025-04-26T12:44:46.706Z"
   },
   {
    "duration": 5,
    "start_time": "2025-04-26T12:44:46.756Z"
   },
   {
    "duration": 16,
    "start_time": "2025-04-26T12:44:46.763Z"
   },
   {
    "duration": 24,
    "start_time": "2025-04-26T12:44:46.782Z"
   },
   {
    "duration": 5,
    "start_time": "2025-04-26T12:44:46.808Z"
   },
   {
    "duration": 26,
    "start_time": "2025-04-26T12:44:46.815Z"
   },
   {
    "duration": 18,
    "start_time": "2025-04-26T12:44:46.842Z"
   },
   {
    "duration": 493,
    "start_time": "2025-04-26T12:44:46.862Z"
   },
   {
    "duration": 8,
    "start_time": "2025-04-26T12:44:47.358Z"
   },
   {
    "duration": 296,
    "start_time": "2025-04-26T12:44:47.368Z"
   },
   {
    "duration": 212,
    "start_time": "2025-04-26T12:44:47.666Z"
   },
   {
    "duration": 179,
    "start_time": "2025-04-26T12:44:47.881Z"
   },
   {
    "duration": 155,
    "start_time": "2025-04-26T12:44:48.062Z"
   },
   {
    "duration": 238,
    "start_time": "2025-04-26T12:44:48.219Z"
   },
   {
    "duration": 219,
    "start_time": "2025-04-26T12:44:48.459Z"
   },
   {
    "duration": 411,
    "start_time": "2025-04-26T12:44:48.680Z"
   },
   {
    "duration": 332,
    "start_time": "2025-04-26T12:44:49.093Z"
   },
   {
    "duration": 431,
    "start_time": "2025-04-26T12:44:49.427Z"
   },
   {
    "duration": 5,
    "start_time": "2025-04-26T12:44:49.860Z"
   },
   {
    "duration": 9,
    "start_time": "2025-04-26T12:44:49.867Z"
   },
   {
    "duration": 14,
    "start_time": "2025-04-26T12:44:49.878Z"
   },
   {
    "duration": 13,
    "start_time": "2025-04-26T12:45:22.550Z"
   },
   {
    "duration": 28,
    "start_time": "2025-04-26T12:45:34.430Z"
   },
   {
    "duration": 369,
    "start_time": "2025-04-26T12:46:46.120Z"
   },
   {
    "duration": 366,
    "start_time": "2025-04-26T12:48:27.317Z"
   },
   {
    "duration": 241,
    "start_time": "2025-04-26T12:49:51.650Z"
   },
   {
    "duration": 296,
    "start_time": "2025-04-26T12:49:56.791Z"
   },
   {
    "duration": 220,
    "start_time": "2025-04-26T12:50:40.353Z"
   },
   {
    "duration": 203,
    "start_time": "2025-04-26T12:50:51.323Z"
   },
   {
    "duration": 204,
    "start_time": "2025-04-26T12:51:20.160Z"
   },
   {
    "duration": 201,
    "start_time": "2025-04-26T12:51:33.331Z"
   },
   {
    "duration": 225,
    "start_time": "2025-04-26T12:51:48.474Z"
   },
   {
    "duration": 147,
    "start_time": "2025-04-26T12:54:16.318Z"
   },
   {
    "duration": 148,
    "start_time": "2025-04-26T12:54:26.651Z"
   },
   {
    "duration": 21,
    "start_time": "2025-04-26T12:56:47.135Z"
   },
   {
    "duration": 17,
    "start_time": "2025-04-26T12:57:29.167Z"
   },
   {
    "duration": 126,
    "start_time": "2025-04-26T12:58:11.103Z"
   },
   {
    "duration": 133,
    "start_time": "2025-04-26T12:58:18.440Z"
   },
   {
    "duration": 138,
    "start_time": "2025-04-26T12:58:26.413Z"
   },
   {
    "duration": 12,
    "start_time": "2025-04-26T12:58:33.299Z"
   },
   {
    "duration": 20,
    "start_time": "2025-04-26T12:58:39.886Z"
   },
   {
    "duration": 13,
    "start_time": "2025-04-26T12:58:46.903Z"
   },
   {
    "duration": 3,
    "start_time": "2025-04-26T12:59:30.477Z"
   },
   {
    "duration": 244,
    "start_time": "2025-04-26T12:59:47.115Z"
   },
   {
    "duration": 162,
    "start_time": "2025-04-26T13:01:06.175Z"
   },
   {
    "duration": 1708,
    "start_time": "2025-04-26T13:06:42.491Z"
   },
   {
    "duration": 121,
    "start_time": "2025-04-26T13:13:11.984Z"
   },
   {
    "duration": 210,
    "start_time": "2025-04-26T13:13:24.424Z"
   },
   {
    "duration": 381,
    "start_time": "2025-04-26T13:14:47.132Z"
   },
   {
    "duration": 326,
    "start_time": "2025-04-26T13:15:13.949Z"
   },
   {
    "duration": 10,
    "start_time": "2025-04-26T13:20:49.405Z"
   },
   {
    "duration": 16,
    "start_time": "2025-04-26T13:21:26.746Z"
   },
   {
    "duration": 18,
    "start_time": "2025-04-26T13:23:08.024Z"
   },
   {
    "duration": 15,
    "start_time": "2025-04-26T13:23:38.199Z"
   },
   {
    "duration": 1207,
    "start_time": "2025-04-26T18:12:52.613Z"
   },
   {
    "duration": 54,
    "start_time": "2025-04-26T18:12:53.822Z"
   },
   {
    "duration": 16,
    "start_time": "2025-04-26T18:12:53.878Z"
   },
   {
    "duration": 19,
    "start_time": "2025-04-26T18:12:53.895Z"
   },
   {
    "duration": 14,
    "start_time": "2025-04-26T18:12:53.916Z"
   },
   {
    "duration": 9,
    "start_time": "2025-04-26T18:12:53.931Z"
   },
   {
    "duration": 23,
    "start_time": "2025-04-26T18:12:53.962Z"
   },
   {
    "duration": 25,
    "start_time": "2025-04-26T18:12:53.987Z"
   },
   {
    "duration": 4,
    "start_time": "2025-04-26T18:12:54.014Z"
   },
   {
    "duration": 8,
    "start_time": "2025-04-26T18:12:54.020Z"
   },
   {
    "duration": 41,
    "start_time": "2025-04-26T18:12:54.030Z"
   },
   {
    "duration": 5,
    "start_time": "2025-04-26T18:12:54.072Z"
   },
   {
    "duration": 13,
    "start_time": "2025-04-26T18:12:54.078Z"
   },
   {
    "duration": 338,
    "start_time": "2025-04-26T18:12:54.094Z"
   },
   {
    "duration": 9,
    "start_time": "2025-04-26T18:12:54.433Z"
   },
   {
    "duration": 375,
    "start_time": "2025-04-26T18:12:54.444Z"
   },
   {
    "duration": 6,
    "start_time": "2025-04-26T18:12:54.821Z"
   },
   {
    "duration": 229,
    "start_time": "2025-04-26T18:12:54.828Z"
   },
   {
    "duration": 173,
    "start_time": "2025-04-26T18:12:55.061Z"
   },
   {
    "duration": 181,
    "start_time": "2025-04-26T18:12:55.235Z"
   },
   {
    "duration": 1476,
    "start_time": "2025-04-26T18:12:55.417Z"
   },
   {
    "duration": 181,
    "start_time": "2025-04-26T18:12:56.895Z"
   },
   {
    "duration": 268,
    "start_time": "2025-04-26T18:12:57.078Z"
   },
   {
    "duration": 342,
    "start_time": "2025-04-26T18:12:57.347Z"
   },
   {
    "duration": 268,
    "start_time": "2025-04-26T18:12:57.690Z"
   },
   {
    "duration": 396,
    "start_time": "2025-04-26T18:12:57.961Z"
   },
   {
    "duration": 6,
    "start_time": "2025-04-26T18:12:58.358Z"
   },
   {
    "duration": 58,
    "start_time": "2025-04-26T18:12:58.366Z"
   },
   {
    "duration": 34,
    "start_time": "2025-04-26T18:12:58.425Z"
   },
   {
    "duration": 48,
    "start_time": "2025-04-26T20:10:26.027Z"
   },
   {
    "duration": 1282,
    "start_time": "2025-04-26T20:10:31.777Z"
   },
   {
    "duration": 55,
    "start_time": "2025-04-26T20:10:33.063Z"
   },
   {
    "duration": 17,
    "start_time": "2025-04-26T20:10:33.119Z"
   },
   {
    "duration": 20,
    "start_time": "2025-04-26T20:10:33.138Z"
   },
   {
    "duration": 16,
    "start_time": "2025-04-26T20:10:33.159Z"
   },
   {
    "duration": 11,
    "start_time": "2025-04-26T20:10:33.177Z"
   },
   {
    "duration": 22,
    "start_time": "2025-04-26T20:10:33.189Z"
   },
   {
    "duration": 19,
    "start_time": "2025-04-26T20:10:33.212Z"
   },
   {
    "duration": 29,
    "start_time": "2025-04-26T20:10:33.233Z"
   },
   {
    "duration": 6,
    "start_time": "2025-04-26T20:10:33.265Z"
   },
   {
    "duration": 36,
    "start_time": "2025-04-26T20:10:33.273Z"
   },
   {
    "duration": 6,
    "start_time": "2025-04-26T20:10:33.310Z"
   },
   {
    "duration": 6,
    "start_time": "2025-04-26T20:10:33.318Z"
   },
   {
    "duration": 330,
    "start_time": "2025-04-26T20:10:33.325Z"
   },
   {
    "duration": 8,
    "start_time": "2025-04-26T20:10:33.661Z"
   },
   {
    "duration": 392,
    "start_time": "2025-04-26T20:10:33.671Z"
   },
   {
    "duration": 6,
    "start_time": "2025-04-26T20:10:34.065Z"
   },
   {
    "duration": 247,
    "start_time": "2025-04-26T20:10:34.073Z"
   },
   {
    "duration": 177,
    "start_time": "2025-04-26T20:10:34.321Z"
   },
   {
    "duration": 179,
    "start_time": "2025-04-26T20:10:34.500Z"
   },
   {
    "duration": 1515,
    "start_time": "2025-04-26T20:10:34.681Z"
   },
   {
    "duration": 191,
    "start_time": "2025-04-26T20:10:36.197Z"
   },
   {
    "duration": 264,
    "start_time": "2025-04-26T20:10:36.390Z"
   },
   {
    "duration": 338,
    "start_time": "2025-04-26T20:10:36.655Z"
   },
   {
    "duration": 267,
    "start_time": "2025-04-26T20:10:36.995Z"
   },
   {
    "duration": 351,
    "start_time": "2025-04-26T20:10:37.263Z"
   },
   {
    "duration": 4,
    "start_time": "2025-04-26T20:10:37.616Z"
   },
   {
    "duration": 13,
    "start_time": "2025-04-26T20:10:37.622Z"
   },
   {
    "duration": 35,
    "start_time": "2025-04-26T20:10:37.636Z"
   },
   {
    "duration": 321,
    "start_time": "2025-04-26T20:10:44.248Z"
   },
   {
    "duration": 1690,
    "start_time": "2025-04-26T20:12:14.064Z"
   },
   {
    "duration": 408,
    "start_time": "2025-04-26T20:12:29.919Z"
   },
   {
    "duration": 323,
    "start_time": "2025-04-26T20:13:56.141Z"
   },
   {
    "duration": 1065,
    "start_time": "2025-04-27T07:41:32.121Z"
   },
   {
    "duration": 54,
    "start_time": "2025-04-27T07:41:33.188Z"
   },
   {
    "duration": 15,
    "start_time": "2025-04-27T07:41:33.244Z"
   },
   {
    "duration": 25,
    "start_time": "2025-04-27T07:41:33.261Z"
   },
   {
    "duration": 26,
    "start_time": "2025-04-27T07:41:33.288Z"
   },
   {
    "duration": 11,
    "start_time": "2025-04-27T07:41:33.315Z"
   },
   {
    "duration": 20,
    "start_time": "2025-04-27T07:41:33.336Z"
   },
   {
    "duration": 19,
    "start_time": "2025-04-27T07:41:33.357Z"
   },
   {
    "duration": 4,
    "start_time": "2025-04-27T07:41:33.378Z"
   },
   {
    "duration": 22,
    "start_time": "2025-04-27T07:41:33.384Z"
   },
   {
    "duration": 33,
    "start_time": "2025-04-27T07:41:33.407Z"
   },
   {
    "duration": 5,
    "start_time": "2025-04-27T07:41:33.441Z"
   },
   {
    "duration": 6,
    "start_time": "2025-04-27T07:41:33.448Z"
   },
   {
    "duration": 367,
    "start_time": "2025-04-27T07:41:33.455Z"
   },
   {
    "duration": 17,
    "start_time": "2025-04-27T07:41:33.823Z"
   },
   {
    "duration": 398,
    "start_time": "2025-04-27T07:41:33.841Z"
   },
   {
    "duration": 6,
    "start_time": "2025-04-27T07:41:34.241Z"
   },
   {
    "duration": 295,
    "start_time": "2025-04-27T07:41:34.248Z"
   },
   {
    "duration": 185,
    "start_time": "2025-04-27T07:41:34.545Z"
   },
   {
    "duration": 205,
    "start_time": "2025-04-27T07:41:34.735Z"
   },
   {
    "duration": 1604,
    "start_time": "2025-04-27T07:41:34.942Z"
   },
   {
    "duration": 190,
    "start_time": "2025-04-27T07:41:36.548Z"
   },
   {
    "duration": 285,
    "start_time": "2025-04-27T07:41:36.740Z"
   },
   {
    "duration": 357,
    "start_time": "2025-04-27T07:41:37.026Z"
   },
   {
    "duration": 295,
    "start_time": "2025-04-27T07:41:37.385Z"
   },
   {
    "duration": 371,
    "start_time": "2025-04-27T07:41:37.682Z"
   },
   {
    "duration": 5,
    "start_time": "2025-04-27T07:41:38.055Z"
   },
   {
    "duration": 14,
    "start_time": "2025-04-27T07:41:38.063Z"
   },
   {
    "duration": 17,
    "start_time": "2025-04-27T07:41:38.079Z"
   }
  ],
  "kernelspec": {
   "display_name": "Python 3 (ipykernel)",
   "language": "python",
   "name": "python3"
  },
  "language_info": {
   "codemirror_mode": {
    "name": "ipython",
    "version": 3
   },
   "file_extension": ".py",
   "mimetype": "text/x-python",
   "name": "python",
   "nbconvert_exporter": "python",
   "pygments_lexer": "ipython3",
   "version": "3.9.5"
  },
  "toc": {
   "base_numbering": 1,
   "nav_menu": {},
   "number_sections": true,
   "sideBar": true,
   "skip_h1_title": true,
   "title_cell": "Table of Contents",
   "title_sidebar": "Contents",
   "toc_cell": false,
   "toc_position": {},
   "toc_section_display": true,
   "toc_window_display": false
  }
 },
 "nbformat": 4,
 "nbformat_minor": 2
}
